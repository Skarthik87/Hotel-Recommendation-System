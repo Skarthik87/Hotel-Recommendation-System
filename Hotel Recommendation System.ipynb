{
 "cells": [
  {
   "cell_type": "code",
   "execution_count": 1,
   "metadata": {},
   "outputs": [],
   "source": [
    "# Title: BUILDING A HOTEL RECOMMENDATION SYSTEM USING COLLABORATIVE FILTERING WITH BENCHMARKING OF ML ALGORITHMS \n",
    "# Import libraries\n",
    "import sys\n",
    "import os\n",
    "import warnings\n",
    "import math\n",
    "import random\n",
    "from datetime import datetime\n",
    "import time as t\n",
    "from time import time\n",
    "import numpy as np\n",
    "import pandas as pd\n",
    "import matplotlib.pyplot as plt\n",
    "%matplotlib inline\n",
    "from sklearn.preprocessing import LabelEncoder\n",
    "from surprise.model_selection import train_test_split\n",
    "from surprise.model_selection import cross_validate\n",
    "from surprise.model_selection import GridSearchCV\n",
    "from surprise import SVD, SVDpp, SlopeOne, NMF, NormalPredictor, KNNBaseline, KNNBasic, KNNWithMeans, KNNWithZScore,  BaselineOnly, CoClustering\n",
    "from surprise import Dataset\n",
    "from surprise import Reader\n",
    "from surprise import accuracy\n",
    "from surprise import dump"
   ]
  },
  {
   "cell_type": "code",
   "execution_count": 2,
   "metadata": {},
   "outputs": [
    {
     "name": "stdout",
     "output_type": "stream",
     "text": [
      "(16699, 12)\n",
      "Index(['id', 'username', 'type', 'date', 'title', 'text', 'rating',\n",
      "       'helpfulness', 'total_points', 'Hotel_name', 'Url', 'City'],\n",
      "      dtype='object')\n"
     ]
    }
   ],
   "source": [
    "# load hotel reviews information\n",
    "df_hotels = pd.read_csv('HotelReviews_TA.csv', engine='python')\n",
    "print(df_hotels.shape)\n",
    "print (df_hotels.columns)\n",
    "\n"
   ]
  },
  {
   "cell_type": "code",
   "execution_count": 3,
   "metadata": {},
   "outputs": [
    {
     "data": {
      "text/html": [
       "<div>\n",
       "<style scoped>\n",
       "    .dataframe tbody tr th:only-of-type {\n",
       "        vertical-align: middle;\n",
       "    }\n",
       "\n",
       "    .dataframe tbody tr th {\n",
       "        vertical-align: top;\n",
       "    }\n",
       "\n",
       "    .dataframe thead th {\n",
       "        text-align: right;\n",
       "    }\n",
       "</style>\n",
       "<table border=\"1\" class=\"dataframe\">\n",
       "  <thead>\n",
       "    <tr style=\"text-align: right;\">\n",
       "      <th></th>\n",
       "      <th>id</th>\n",
       "      <th>username</th>\n",
       "      <th>type</th>\n",
       "      <th>date</th>\n",
       "      <th>title</th>\n",
       "      <th>text</th>\n",
       "      <th>rating</th>\n",
       "      <th>helpfulness</th>\n",
       "      <th>total_points</th>\n",
       "      <th>Hotel_name</th>\n",
       "      <th>Url</th>\n",
       "      <th>City</th>\n",
       "    </tr>\n",
       "  </thead>\n",
       "  <tbody>\n",
       "    <tr>\n",
       "      <th>0</th>\n",
       "      <td>1</td>\n",
       "      <td>007solotraveler</td>\n",
       "      <td>Hotels</td>\n",
       "      <td>4/8/2013</td>\n",
       "      <td>Good Choice and would be suitable for a family</td>\n",
       "      <td>Decent Hotel next to station so good location ...</td>\n",
       "      <td>4</td>\n",
       "      <td>1.0</td>\n",
       "      <td>101</td>\n",
       "      <td>Radisson Blu Royal Viking Hotel, Stockholm</td>\n",
       "      <td>http://www.tripadvisor.com/Hotel_Review-g18985...</td>\n",
       "      <td>Stockholm</td>\n",
       "    </tr>\n",
       "    <tr>\n",
       "      <th>1</th>\n",
       "      <td>2</td>\n",
       "      <td>007solotraveler</td>\n",
       "      <td>Hotels</td>\n",
       "      <td>4/8/2013</td>\n",
       "      <td>Modern and Chic - suitable both family and bus...</td>\n",
       "      <td>Excellent Hotel - well situated for getting ro...</td>\n",
       "      <td>5</td>\n",
       "      <td>0.0</td>\n",
       "      <td>100</td>\n",
       "      <td>Radisson Blu Waterfront Hotel</td>\n",
       "      <td>http://www.tripadvisor.com/Hotel_Review-g18985...</td>\n",
       "      <td>Stockholm</td>\n",
       "    </tr>\n",
       "    <tr>\n",
       "      <th>2</th>\n",
       "      <td>4</td>\n",
       "      <td>007solotraveler</td>\n",
       "      <td>Hotels</td>\n",
       "      <td>7/9/2012</td>\n",
       "      <td>Family stay</td>\n",
       "      <td>Stayed for 3 nights in MIami - stayed here due...</td>\n",
       "      <td>4</td>\n",
       "      <td>0.0</td>\n",
       "      <td>100</td>\n",
       "      <td>Hilton Miami Airport</td>\n",
       "      <td>http://www.tripadvisor.com/Hotel_Review-g34438...</td>\n",
       "      <td>Miami</td>\n",
       "    </tr>\n",
       "    <tr>\n",
       "      <th>3</th>\n",
       "      <td>6</td>\n",
       "      <td>007solotraveler</td>\n",
       "      <td>Hotels</td>\n",
       "      <td>9/7/2011</td>\n",
       "      <td>Great Hotel - but is in need of some T&amp;C!</td>\n",
       "      <td>Having read numerous poor reviews I was going ...</td>\n",
       "      <td>4</td>\n",
       "      <td>3.0</td>\n",
       "      <td>103</td>\n",
       "      <td>Crowne Plaza Hotel San Diego - Mission Valley</td>\n",
       "      <td>http://www.tripadvisor.com/Hotel_Review-g60750...</td>\n",
       "      <td>San Diego</td>\n",
       "    </tr>\n",
       "    <tr>\n",
       "      <th>4</th>\n",
       "      <td>7</td>\n",
       "      <td>007solotraveler</td>\n",
       "      <td>Hotels</td>\n",
       "      <td>9/6/2011</td>\n",
       "      <td>Great Location and fab hotel</td>\n",
       "      <td>I&amp;acute;ve stayed here a few times over the la...</td>\n",
       "      <td>5</td>\n",
       "      <td>1.0</td>\n",
       "      <td>101</td>\n",
       "      <td>Hilton San Francisco Union Square</td>\n",
       "      <td>http://www.tripadvisor.com/Hotel_Review-g60713...</td>\n",
       "      <td>San Francisco</td>\n",
       "    </tr>\n",
       "  </tbody>\n",
       "</table>\n",
       "</div>"
      ],
      "text/plain": [
       "   id         username    type      date  \\\n",
       "0   1  007solotraveler  Hotels  4/8/2013   \n",
       "1   2  007solotraveler  Hotels  4/8/2013   \n",
       "2   4  007solotraveler  Hotels  7/9/2012   \n",
       "3   6  007solotraveler  Hotels  9/7/2011   \n",
       "4   7  007solotraveler  Hotels  9/6/2011   \n",
       "\n",
       "                                               title  \\\n",
       "0     Good Choice and would be suitable for a family   \n",
       "1  Modern and Chic - suitable both family and bus...   \n",
       "2                                        Family stay   \n",
       "3          Great Hotel - but is in need of some T&C!   \n",
       "4                       Great Location and fab hotel   \n",
       "\n",
       "                                                text  rating  helpfulness  \\\n",
       "0  Decent Hotel next to station so good location ...       4          1.0   \n",
       "1  Excellent Hotel - well situated for getting ro...       5          0.0   \n",
       "2  Stayed for 3 nights in MIami - stayed here due...       4          0.0   \n",
       "3  Having read numerous poor reviews I was going ...       4          3.0   \n",
       "4  I&acute;ve stayed here a few times over the la...       5          1.0   \n",
       "\n",
       "   total_points                                     Hotel_name  \\\n",
       "0           101     Radisson Blu Royal Viking Hotel, Stockholm   \n",
       "1           100                  Radisson Blu Waterfront Hotel   \n",
       "2           100                           Hilton Miami Airport   \n",
       "3           103  Crowne Plaza Hotel San Diego - Mission Valley   \n",
       "4           101              Hilton San Francisco Union Square   \n",
       "\n",
       "                                                 Url           City  \n",
       "0  http://www.tripadvisor.com/Hotel_Review-g18985...      Stockholm  \n",
       "1  http://www.tripadvisor.com/Hotel_Review-g18985...      Stockholm  \n",
       "2  http://www.tripadvisor.com/Hotel_Review-g34438...          Miami  \n",
       "3  http://www.tripadvisor.com/Hotel_Review-g60750...      San Diego  \n",
       "4  http://www.tripadvisor.com/Hotel_Review-g60713...  San Francisco  "
      ]
     },
     "execution_count": 3,
     "metadata": {},
     "output_type": "execute_result"
    }
   ],
   "source": [
    "df_hotels.head()"
   ]
  },
  {
   "cell_type": "code",
   "execution_count": 4,
   "metadata": {
    "scrolled": true
   },
   "outputs": [
    {
     "name": "stdout",
     "output_type": "stream",
     "text": [
      "(7034, 19)\n",
      "Index(['username', 'ageRange', 'gender', 'location', 'travelStyle',\n",
      "       'reviewerBadge', 'registerDate', 'numHotelsReviews', 'numRestReviews',\n",
      "       'numAttractReviews', 'numFirstToReview', 'numRatings', 'numPhotos',\n",
      "       'numForumPosts', 'numArticles', 'numCitiesBeen', 'totalPoints',\n",
      "       'contribLevel', 'numHelpfulVotes'],\n",
      "      dtype='object')\n"
     ]
    }
   ],
   "source": [
    "# load hotel reviews information\n",
    "df_users = pd.read_csv('Users_TA.csv', engine='python')\n",
    "print(df_users.shape)\n",
    "print (df_users.columns)"
   ]
  },
  {
   "cell_type": "code",
   "execution_count": 5,
   "metadata": {},
   "outputs": [
    {
     "name": "stdout",
     "output_type": "stream",
     "text": [
      "Number of unique users: 1098\n",
      "Number of unique hotels: 12736\n",
      "Sparsity Precentage: 0.119%\n"
     ]
    }
   ],
   "source": [
    "#check unique hotels and users and calculate percentage of data sparsity\n",
    "n_users = df_hotels.username.unique().shape[0]\n",
    "n_hotels = df_hotels.Hotel_name.unique().shape[0]\n",
    "\n",
    "print('Number of unique users: {}'.format(n_users))\n",
    "print('Number of unique hotels: {}'.format(n_hotels))\n",
    "print('Sparsity Precentage: {:4.3f}%'.format(float(df_hotels.shape[0]) / float(n_users*n_hotels) * 100))"
   ]
  },
  {
   "cell_type": "code",
   "execution_count": 6,
   "metadata": {
    "scrolled": true
   },
   "outputs": [
    {
     "name": "stdout",
     "output_type": "stream",
     "text": [
      "(7034, 19)\n",
      "(16699, 12)\n"
     ]
    }
   ],
   "source": [
    "print(df_users.shape)\n",
    "print(df_hotels.shape)"
   ]
  },
  {
   "cell_type": "code",
   "execution_count": 7,
   "metadata": {},
   "outputs": [
    {
     "data": {
      "text/html": [
       "<div>\n",
       "<style scoped>\n",
       "    .dataframe tbody tr th:only-of-type {\n",
       "        vertical-align: middle;\n",
       "    }\n",
       "\n",
       "    .dataframe tbody tr th {\n",
       "        vertical-align: top;\n",
       "    }\n",
       "\n",
       "    .dataframe thead th {\n",
       "        text-align: right;\n",
       "    }\n",
       "</style>\n",
       "<table border=\"1\" class=\"dataframe\">\n",
       "  <thead>\n",
       "    <tr style=\"text-align: right;\">\n",
       "      <th></th>\n",
       "      <th>username</th>\n",
       "      <th>ageRange</th>\n",
       "      <th>gender</th>\n",
       "      <th>location</th>\n",
       "      <th>travelStyle</th>\n",
       "      <th>reviewerBadge</th>\n",
       "      <th>registerDate</th>\n",
       "      <th>numHotelsReviews</th>\n",
       "      <th>numRestReviews</th>\n",
       "      <th>numAttractReviews</th>\n",
       "      <th>numFirstToReview</th>\n",
       "      <th>numRatings</th>\n",
       "      <th>numPhotos</th>\n",
       "      <th>numForumPosts</th>\n",
       "      <th>numArticles</th>\n",
       "      <th>numCitiesBeen</th>\n",
       "      <th>totalPoints</th>\n",
       "      <th>contribLevel</th>\n",
       "      <th>numHelpfulVotes</th>\n",
       "    </tr>\n",
       "  </thead>\n",
       "  <tbody>\n",
       "    <tr>\n",
       "      <th>0</th>\n",
       "      <td>007solotraveler</td>\n",
       "      <td>35-49</td>\n",
       "      <td>male</td>\n",
       "      <td>liverpool</td>\n",
       "      <td>NaN</td>\n",
       "      <td>Contributor</td>\n",
       "      <td>6/1/2010</td>\n",
       "      <td>10.0</td>\n",
       "      <td>1.0</td>\n",
       "      <td>1.0</td>\n",
       "      <td>NaN</td>\n",
       "      <td>6.0</td>\n",
       "      <td>NaN</td>\n",
       "      <td>NaN</td>\n",
       "      <td>NaN</td>\n",
       "      <td>8.0</td>\n",
       "      <td>1240.0</td>\n",
       "      <td>3</td>\n",
       "      <td>10</td>\n",
       "    </tr>\n",
       "    <tr>\n",
       "      <th>1</th>\n",
       "      <td>0BKI0</td>\n",
       "      <td>25-34</td>\n",
       "      <td>female</td>\n",
       "      <td>Bristol</td>\n",
       "      <td>Foodie, Nature Lover, Urban Explorer</td>\n",
       "      <td>Contributor</td>\n",
       "      <td>8/1/2009</td>\n",
       "      <td>11.0</td>\n",
       "      <td>7.0</td>\n",
       "      <td>NaN</td>\n",
       "      <td>NaN</td>\n",
       "      <td>1.0</td>\n",
       "      <td>10.0</td>\n",
       "      <td>NaN</td>\n",
       "      <td>NaN</td>\n",
       "      <td>11.0</td>\n",
       "      <td>2117.0</td>\n",
       "      <td>3</td>\n",
       "      <td>12</td>\n",
       "    </tr>\n",
       "    <tr>\n",
       "      <th>2</th>\n",
       "      <td>1010101</td>\n",
       "      <td>NaN</td>\n",
       "      <td>NaN</td>\n",
       "      <td>uk</td>\n",
       "      <td>NaN</td>\n",
       "      <td>NaN</td>\n",
       "      <td>3/1/2009</td>\n",
       "      <td>NaN</td>\n",
       "      <td>NaN</td>\n",
       "      <td>NaN</td>\n",
       "      <td>NaN</td>\n",
       "      <td>NaN</td>\n",
       "      <td>NaN</td>\n",
       "      <td>NaN</td>\n",
       "      <td>NaN</td>\n",
       "      <td>NaN</td>\n",
       "      <td>0.0</td>\n",
       "      <td>0</td>\n",
       "      <td>0</td>\n",
       "    </tr>\n",
       "    <tr>\n",
       "      <th>3</th>\n",
       "      <td>10179k79</td>\n",
       "      <td>NaN</td>\n",
       "      <td>NaN</td>\n",
       "      <td>Berlin, Germany</td>\n",
       "      <td>NaN</td>\n",
       "      <td>Top Contributor</td>\n",
       "      <td>5/1/2008</td>\n",
       "      <td>54.0</td>\n",
       "      <td>1.0</td>\n",
       "      <td>NaN</td>\n",
       "      <td>3.0</td>\n",
       "      <td>2.0</td>\n",
       "      <td>8.0</td>\n",
       "      <td>NaN</td>\n",
       "      <td>NaN</td>\n",
       "      <td>48.0</td>\n",
       "      <td>5808.0</td>\n",
       "      <td>5</td>\n",
       "      <td>58</td>\n",
       "    </tr>\n",
       "    <tr>\n",
       "      <th>4</th>\n",
       "      <td>10onwoodford</td>\n",
       "      <td>NaN</td>\n",
       "      <td>NaN</td>\n",
       "      <td>NaN</td>\n",
       "      <td>NaN</td>\n",
       "      <td>NaN</td>\n",
       "      <td>NaN</td>\n",
       "      <td>NaN</td>\n",
       "      <td>NaN</td>\n",
       "      <td>NaN</td>\n",
       "      <td>NaN</td>\n",
       "      <td>NaN</td>\n",
       "      <td>NaN</td>\n",
       "      <td>NaN</td>\n",
       "      <td>NaN</td>\n",
       "      <td>NaN</td>\n",
       "      <td>NaN</td>\n",
       "      <td>0</td>\n",
       "      <td>0</td>\n",
       "    </tr>\n",
       "  </tbody>\n",
       "</table>\n",
       "</div>"
      ],
      "text/plain": [
       "          username ageRange  gender         location  \\\n",
       "0  007solotraveler    35-49    male        liverpool   \n",
       "1            0BKI0    25-34  female          Bristol   \n",
       "2          1010101      NaN     NaN               uk   \n",
       "3         10179k79      NaN     NaN  Berlin, Germany   \n",
       "4     10onwoodford      NaN     NaN              NaN   \n",
       "\n",
       "                            travelStyle    reviewerBadge registerDate  \\\n",
       "0                                   NaN      Contributor     6/1/2010   \n",
       "1  Foodie, Nature Lover, Urban Explorer      Contributor     8/1/2009   \n",
       "2                                   NaN              NaN     3/1/2009   \n",
       "3                                   NaN  Top Contributor     5/1/2008   \n",
       "4                                   NaN              NaN          NaN   \n",
       "\n",
       "   numHotelsReviews  numRestReviews  numAttractReviews  numFirstToReview  \\\n",
       "0              10.0             1.0                1.0               NaN   \n",
       "1              11.0             7.0                NaN               NaN   \n",
       "2               NaN             NaN                NaN               NaN   \n",
       "3              54.0             1.0                NaN               3.0   \n",
       "4               NaN             NaN                NaN               NaN   \n",
       "\n",
       "   numRatings  numPhotos  numForumPosts  numArticles  numCitiesBeen  \\\n",
       "0         6.0        NaN            NaN          NaN            8.0   \n",
       "1         1.0       10.0            NaN          NaN           11.0   \n",
       "2         NaN        NaN            NaN          NaN            NaN   \n",
       "3         2.0        8.0            NaN          NaN           48.0   \n",
       "4         NaN        NaN            NaN          NaN            NaN   \n",
       "\n",
       "   totalPoints  contribLevel  numHelpfulVotes  \n",
       "0       1240.0             3               10  \n",
       "1       2117.0             3               12  \n",
       "2          0.0             0                0  \n",
       "3       5808.0             5               58  \n",
       "4          NaN             0                0  "
      ]
     },
     "execution_count": 7,
     "metadata": {},
     "output_type": "execute_result"
    }
   ],
   "source": [
    "#look at users\n",
    "df_users.head()"
   ]
  },
  {
   "cell_type": "code",
   "execution_count": 8,
   "metadata": {
    "scrolled": true
   },
   "outputs": [
    {
     "data": {
      "text/plain": [
       "username                0\n",
       "ageRange             2248\n",
       "gender               1735\n",
       "location              203\n",
       "travelStyle          3532\n",
       "reviewerBadge          86\n",
       "registerDate           81\n",
       "numHotelsReviews       89\n",
       "numRestReviews       1152\n",
       "numAttractReviews    2164\n",
       "numFirstToReview     1838\n",
       "numRatings           2521\n",
       "numPhotos            3358\n",
       "numForumPosts        4433\n",
       "numArticles          6798\n",
       "numCitiesBeen          91\n",
       "totalPoints            81\n",
       "contribLevel            0\n",
       "numHelpfulVotes         0\n",
       "dtype: int64"
      ]
     },
     "execution_count": 8,
     "metadata": {},
     "output_type": "execute_result"
    }
   ],
   "source": [
    "# Check null values in the users dataset\n",
    "df_users.isnull().sum()"
   ]
  },
  {
   "cell_type": "code",
   "execution_count": 9,
   "metadata": {},
   "outputs": [
    {
     "data": {
      "text/plain": [
       "id                 0\n",
       "username           0\n",
       "type               0\n",
       "date               0\n",
       "title              0\n",
       "text               0\n",
       "rating             0\n",
       "helpfulness     3477\n",
       "total_points       0\n",
       "Hotel_name         0\n",
       "Url                0\n",
       "City               0\n",
       "dtype: int64"
      ]
     },
     "execution_count": 9,
     "metadata": {},
     "output_type": "execute_result"
    }
   ],
   "source": [
    "# Check null values in the Hotel review dataset\n",
    "df_hotels.isnull().sum()"
   ]
  },
  {
   "cell_type": "code",
   "execution_count": 10,
   "metadata": {
    "scrolled": true
   },
   "outputs": [
    {
     "data": {
      "text/plain": [
       "username             7034\n",
       "ageRange             7034\n",
       "gender               7034\n",
       "location             7034\n",
       "travelStyle          7034\n",
       "reviewerBadge        7034\n",
       "registerDate         7034\n",
       "numHotelsReviews     7034\n",
       "numRestReviews       7034\n",
       "numAttractReviews    7034\n",
       "numFirstToReview     7034\n",
       "numRatings           7034\n",
       "numPhotos            7034\n",
       "numForumPosts        7034\n",
       "numArticles          7034\n",
       "numCitiesBeen        7034\n",
       "totalPoints          7031\n",
       "contribLevel         6949\n",
       "numHelpfulVotes      6901\n",
       "dtype: int64"
      ]
     },
     "execution_count": 10,
     "metadata": {},
     "output_type": "execute_result"
    }
   ],
   "source": [
    "# Check number of nonzeros\n",
    "df_users.astype(bool).sum(axis=0)"
   ]
  },
  {
   "cell_type": "code",
   "execution_count": 11,
   "metadata": {},
   "outputs": [
    {
     "data": {
      "text/plain": [
       "id              16699\n",
       "username        16699\n",
       "type            16699\n",
       "date            16699\n",
       "title           16699\n",
       "text            16699\n",
       "rating          16699\n",
       "helpfulness     11767\n",
       "total_points    16699\n",
       "Hotel_name      16699\n",
       "Url             16699\n",
       "City            16699\n",
       "dtype: int64"
      ]
     },
     "execution_count": 11,
     "metadata": {},
     "output_type": "execute_result"
    }
   ],
   "source": [
    "# Check number of nonzeros\n",
    "df_hotels.astype(bool).sum(axis=0)"
   ]
  },
  {
   "cell_type": "code",
   "execution_count": 12,
   "metadata": {
    "scrolled": true
   },
   "outputs": [
    {
     "name": "stdout",
     "output_type": "stream",
     "text": [
      "(array([2773., 1780.,  912.,  492.,  315.,  210.,  129.,   95.,   61.,\n",
      "         44.]), array([  1. ,  10.9,  20.8,  30.7,  40.6,  50.5,  60.4,  70.3,  80.2,\n",
      "        90.1, 100. ]), <a list of 10 Patch objects>)\n"
     ]
    },
    {
     "data": {
      "image/png": "[encoded data removed]",
      "text/plain": [
       "<Figure size 432x288 with 1 Axes>"
      ]
     },
     "metadata": {
      "needs_background": "light"
     },
     "output_type": "display_data"
    }
   ],
   "source": [
    "# Plot Histogram of number of users with the no of hotel reviews <=100\n",
    "print(plt.hist(df_users.numHotelsReviews[df_users.numHotelsReviews<=100]))\n"
   ]
  },
  {
   "cell_type": "code",
   "execution_count": 13,
   "metadata": {
    "scrolled": true
   },
   "outputs": [
    {
     "data": {
      "text/plain": [
       "0         Stockholm\n",
       "1         Stockholm\n",
       "2             Miami\n",
       "3         San Diego\n",
       "4     San Francisco\n",
       "5        San Simeon\n",
       "6           Gatwick\n",
       "7            Sutton\n",
       "8            London\n",
       "9            London\n",
       "10           London\n",
       "11           Berlin\n",
       "12     Mawgan Porth\n",
       "13           London\n",
       "14         Sorrento\n",
       "15           Exeter\n",
       "16           London\n",
       "17    East Harptree\n",
       "18          Pompeii\n",
       "19       Ilfracombe\n",
       "Name: City, dtype: object"
      ]
     },
     "execution_count": 13,
     "metadata": {},
     "output_type": "execute_result"
    }
   ],
   "source": [
    "# Print cities that the hotel belong to:\n",
    "df_hotels.City.head(20)"
   ]
  },
  {
   "cell_type": "code",
   "execution_count": 14,
   "metadata": {
    "scrolled": true
   },
   "outputs": [
    {
     "data": {
      "text/html": [
       "<div>\n",
       "<style scoped>\n",
       "    .dataframe tbody tr th:only-of-type {\n",
       "        vertical-align: middle;\n",
       "    }\n",
       "\n",
       "    .dataframe tbody tr th {\n",
       "        vertical-align: top;\n",
       "    }\n",
       "\n",
       "    .dataframe thead th {\n",
       "        text-align: right;\n",
       "    }\n",
       "</style>\n",
       "<table border=\"1\" class=\"dataframe\">\n",
       "  <thead>\n",
       "    <tr style=\"text-align: right;\">\n",
       "      <th></th>\n",
       "      <th>id</th>\n",
       "      <th>rating</th>\n",
       "      <th>helpfulness</th>\n",
       "      <th>total_points</th>\n",
       "    </tr>\n",
       "  </thead>\n",
       "  <tbody>\n",
       "    <tr>\n",
       "      <th>count</th>\n",
       "      <td>16699.000000</td>\n",
       "      <td>16699.000000</td>\n",
       "      <td>13222.000000</td>\n",
       "      <td>16699.000000</td>\n",
       "    </tr>\n",
       "    <tr>\n",
       "      <th>mean</th>\n",
       "      <td>16173.956345</td>\n",
       "      <td>3.966764</td>\n",
       "      <td>1.442520</td>\n",
       "      <td>101.142164</td>\n",
       "    </tr>\n",
       "    <tr>\n",
       "      <th>std</th>\n",
       "      <td>9327.556988</td>\n",
       "      <td>1.005511</td>\n",
       "      <td>2.518186</td>\n",
       "      <td>2.316011</td>\n",
       "    </tr>\n",
       "    <tr>\n",
       "      <th>min</th>\n",
       "      <td>1.000000</td>\n",
       "      <td>1.000000</td>\n",
       "      <td>0.000000</td>\n",
       "      <td>100.000000</td>\n",
       "    </tr>\n",
       "    <tr>\n",
       "      <th>25%</th>\n",
       "      <td>8207.500000</td>\n",
       "      <td>3.000000</td>\n",
       "      <td>0.000000</td>\n",
       "      <td>100.000000</td>\n",
       "    </tr>\n",
       "    <tr>\n",
       "      <th>50%</th>\n",
       "      <td>16151.000000</td>\n",
       "      <td>4.000000</td>\n",
       "      <td>1.000000</td>\n",
       "      <td>100.000000</td>\n",
       "    </tr>\n",
       "    <tr>\n",
       "      <th>75%</th>\n",
       "      <td>24267.000000</td>\n",
       "      <td>5.000000</td>\n",
       "      <td>2.000000</td>\n",
       "      <td>101.000000</td>\n",
       "    </tr>\n",
       "    <tr>\n",
       "      <th>max</th>\n",
       "      <td>32619.000000</td>\n",
       "      <td>5.000000</td>\n",
       "      <td>86.000000</td>\n",
       "      <td>186.000000</td>\n",
       "    </tr>\n",
       "  </tbody>\n",
       "</table>\n",
       "</div>"
      ],
      "text/plain": [
       "                 id        rating   helpfulness  total_points\n",
       "count  16699.000000  16699.000000  13222.000000  16699.000000\n",
       "mean   16173.956345      3.966764      1.442520    101.142164\n",
       "std     9327.556988      1.005511      2.518186      2.316011\n",
       "min        1.000000      1.000000      0.000000    100.000000\n",
       "25%     8207.500000      3.000000      0.000000    100.000000\n",
       "50%    16151.000000      4.000000      1.000000    100.000000\n",
       "75%    24267.000000      5.000000      2.000000    101.000000\n",
       "max    32619.000000      5.000000     86.000000    186.000000"
      ]
     },
     "execution_count": 14,
     "metadata": {},
     "output_type": "execute_result"
    }
   ],
   "source": [
    "df_hotels.describe()"
   ]
  },
  {
   "cell_type": "code",
   "execution_count": 15,
   "metadata": {
    "scrolled": false
   },
   "outputs": [
    {
     "data": {
      "text/plain": [
       "(array([ 453.,    0.,  965.,    0.,    0., 3115.,    0., 6317.,    0.,\n",
       "        5849.]),\n",
       " array([1. , 1.4, 1.8, 2.2, 2.6, 3. , 3.4, 3.8, 4.2, 4.6, 5. ]),\n",
       " <a list of 10 Patch objects>)"
      ]
     },
     "execution_count": 15,
     "metadata": {},
     "output_type": "execute_result"
    },
    {
     "data": {
      "image/png": "[encoded data removed]",
      "text/plain": [
       "<Figure size 432x288 with 1 Axes>"
      ]
     },
     "metadata": {
      "needs_background": "light"
     },
     "output_type": "display_data"
    }
   ],
   "source": [
    "# Plot histogram of hotel ratings\n",
    "plt.hist(df_hotels.rating)"
   ]
  },
  {
   "cell_type": "code",
   "execution_count": 16,
   "metadata": {},
   "outputs": [
    {
     "name": "stdout",
     "output_type": "stream",
     "text": [
      "No of Users:1098\n",
      "No of Hotels:12736\n",
      "Minimum Users Rating:1.0\n",
      "Maximum Users Rating:5.0\n"
     ]
    }
   ],
   "source": [
    "# Encode the username and Hotel_name into numbers from 0 to n-1 using LabelEncoder\n",
    "\n",
    "user_enc = LabelEncoder()\n",
    "df_hotels['userid'] = user_enc.fit_transform(df_hotels['username'].values)\n",
    "n_users = df_hotels['userid'].nunique()\n",
    "\n",
    "hotel_enc = LabelEncoder()\n",
    "df_hotels['hotelid'] = hotel_enc.fit_transform(df_hotels['Hotel_name'].values)\n",
    "n_hotels = df_hotels['hotelid'].nunique()\n",
    "\n",
    "# Convert ratings to float\n",
    "df_hotels['rating'] = df_hotels['rating'].values.astype(np.float32)\n",
    "\n",
    "#Calculate minimum and maximum rating\n",
    "min_rating = min(df_hotels['rating'])\n",
    "max_rating = max(df_hotels['rating'])\n",
    "\n",
    "# Display no of users, no of hotels, minimum and maximum rating\n",
    "n_users, n_hotels, min_rating, max_rating\n",
    "print (\"No of Users:\" + str (n_users))\n",
    "print (\"No of Hotels:\" + str (n_hotels))\n",
    "print (\"Minimum Users Rating:\" + str (min_rating))\n",
    "print (\"Maximum Users Rating:\" + str (max_rating))"
   ]
  },
  {
   "cell_type": "code",
   "execution_count": 17,
   "metadata": {},
   "outputs": [],
   "source": [
    "# clean user skewness-remove\n",
    "df_users.numRatings =  pd.Series([math.log(x+1) for x in df_users.numRatings])\n",
    "df_users.numHotelsReviews = pd.Series([math.log(x+1) for x in df_users.numHotelsReviews])\n",
    "df_users.numHelpfulVotes =  pd.Series([math.log(x+1) for x in df_users.numHelpfulVotes])"
   ]
  },
  {
   "cell_type": "code",
   "execution_count": 18,
   "metadata": {},
   "outputs": [
    {
     "data": {
      "text/html": [
       "<div>\n",
       "<style scoped>\n",
       "    .dataframe tbody tr th:only-of-type {\n",
       "        vertical-align: middle;\n",
       "    }\n",
       "\n",
       "    .dataframe tbody tr th {\n",
       "        vertical-align: top;\n",
       "    }\n",
       "\n",
       "    .dataframe thead tr th {\n",
       "        text-align: left;\n",
       "    }\n",
       "</style>\n",
       "<table border=\"1\" class=\"dataframe\">\n",
       "  <thead>\n",
       "    <tr>\n",
       "      <th></th>\n",
       "      <th>Hotel_name</th>\n",
       "      <th>username</th>\n",
       "      <th>id</th>\n",
       "      <th>type</th>\n",
       "      <th>date</th>\n",
       "      <th>title</th>\n",
       "      <th>text</th>\n",
       "      <th>rating</th>\n",
       "      <th>helpfulness</th>\n",
       "      <th>total_points</th>\n",
       "      <th>Url</th>\n",
       "      <th>City</th>\n",
       "      <th>userid</th>\n",
       "      <th>hotelid</th>\n",
       "    </tr>\n",
       "    <tr>\n",
       "      <th></th>\n",
       "      <th></th>\n",
       "      <th></th>\n",
       "      <th>count</th>\n",
       "      <th>count</th>\n",
       "      <th>count</th>\n",
       "      <th>count</th>\n",
       "      <th>count</th>\n",
       "      <th>count</th>\n",
       "      <th>count</th>\n",
       "      <th>count</th>\n",
       "      <th>count</th>\n",
       "      <th>count</th>\n",
       "      <th>count</th>\n",
       "      <th>count</th>\n",
       "    </tr>\n",
       "  </thead>\n",
       "  <tbody>\n",
       "    <tr>\n",
       "      <th>0</th>\n",
       "      <td>10 The Coffee House</td>\n",
       "      <td>DorsetTravelmad</td>\n",
       "      <td>1</td>\n",
       "      <td>1</td>\n",
       "      <td>1</td>\n",
       "      <td>1</td>\n",
       "      <td>1</td>\n",
       "      <td>1</td>\n",
       "      <td>0</td>\n",
       "      <td>1</td>\n",
       "      <td>1</td>\n",
       "      <td>1</td>\n",
       "      <td>1</td>\n",
       "      <td>1</td>\n",
       "    </tr>\n",
       "    <tr>\n",
       "      <th>1</th>\n",
       "      <td>11@Century Hotel</td>\n",
       "      <td>AlvinTSingapore</td>\n",
       "      <td>2</td>\n",
       "      <td>2</td>\n",
       "      <td>2</td>\n",
       "      <td>2</td>\n",
       "      <td>2</td>\n",
       "      <td>2</td>\n",
       "      <td>2</td>\n",
       "      <td>2</td>\n",
       "      <td>2</td>\n",
       "      <td>2</td>\n",
       "      <td>2</td>\n",
       "      <td>2</td>\n",
       "    </tr>\n",
       "    <tr>\n",
       "      <th>2</th>\n",
       "      <td>137 Pillars House</td>\n",
       "      <td>Bird-Bird-Blogger</td>\n",
       "      <td>1</td>\n",
       "      <td>1</td>\n",
       "      <td>1</td>\n",
       "      <td>1</td>\n",
       "      <td>1</td>\n",
       "      <td>1</td>\n",
       "      <td>1</td>\n",
       "      <td>1</td>\n",
       "      <td>1</td>\n",
       "      <td>1</td>\n",
       "      <td>1</td>\n",
       "      <td>1</td>\n",
       "    </tr>\n",
       "    <tr>\n",
       "      <th>3</th>\n",
       "      <td>15 Church Street Bed &amp; Breakfast - Phillips-Ya...</td>\n",
       "      <td>Bear_Eskimo</td>\n",
       "      <td>1</td>\n",
       "      <td>1</td>\n",
       "      <td>1</td>\n",
       "      <td>1</td>\n",
       "      <td>1</td>\n",
       "      <td>1</td>\n",
       "      <td>1</td>\n",
       "      <td>1</td>\n",
       "      <td>1</td>\n",
       "      <td>1</td>\n",
       "      <td>1</td>\n",
       "      <td>1</td>\n",
       "    </tr>\n",
       "    <tr>\n",
       "      <th>4</th>\n",
       "      <td>16 Beach Street Bed and Breakfast</td>\n",
       "      <td>Anrmd</td>\n",
       "      <td>2</td>\n",
       "      <td>2</td>\n",
       "      <td>2</td>\n",
       "      <td>2</td>\n",
       "      <td>2</td>\n",
       "      <td>2</td>\n",
       "      <td>2</td>\n",
       "      <td>2</td>\n",
       "      <td>2</td>\n",
       "      <td>2</td>\n",
       "      <td>2</td>\n",
       "      <td>2</td>\n",
       "    </tr>\n",
       "  </tbody>\n",
       "</table>\n",
       "</div>"
      ],
      "text/plain": [
       "                                          Hotel_name           username    id  \\\n",
       "                                                                        count   \n",
       "0                                10 The Coffee House    DorsetTravelmad     1   \n",
       "1                                   11@Century Hotel    AlvinTSingapore     2   \n",
       "2                                  137 Pillars House  Bird-Bird-Blogger     1   \n",
       "3  15 Church Street Bed & Breakfast - Phillips-Ya...        Bear_Eskimo     1   \n",
       "4                  16 Beach Street Bed and Breakfast              Anrmd     2   \n",
       "\n",
       "   type  date title  text rating helpfulness total_points   Url  City userid  \\\n",
       "  count count count count  count       count        count count count  count   \n",
       "0     1     1     1     1      1           0            1     1     1      1   \n",
       "1     2     2     2     2      2           2            2     2     2      2   \n",
       "2     1     1     1     1      1           1            1     1     1      1   \n",
       "3     1     1     1     1      1           1            1     1     1      1   \n",
       "4     2     2     2     2      2           2            2     2     2      2   \n",
       "\n",
       "  hotelid  \n",
       "    count  \n",
       "0       1  \n",
       "1       2  \n",
       "2       1  \n",
       "3       1  \n",
       "4       2  "
      ]
     },
     "execution_count": 18,
     "metadata": {},
     "output_type": "execute_result"
    }
   ],
   "source": [
    "#Check to see if the user has given duplicate reviews for the same hotel\n",
    "a = df_hotels.groupby(['Hotel_name','username']).agg(['count']).reset_index()\n",
    "a.head(5)"
   ]
  },
  {
   "cell_type": "code",
   "execution_count": 19,
   "metadata": {},
   "outputs": [
    {
     "data": {
      "text/plain": [
       "(332, 2)"
      ]
     },
     "execution_count": 19,
     "metadata": {},
     "output_type": "execute_result"
    }
   ],
   "source": [
    "# Count of no of users with multiple reviews for the same hotel\n",
    "tmp = a.rating.sort_values(by = 'count',ascending = False).reset_index()\n",
    "tmp[tmp['count'] >1].shape "
   ]
  },
  {
   "cell_type": "code",
   "execution_count": 20,
   "metadata": {},
   "outputs": [
    {
     "data": {
      "text/plain": [
       "0       3001\n",
       "1       4872\n",
       "2       1782\n",
       "3       6406\n",
       "4       6187\n",
       "       ...  \n",
       "327     8104\n",
       "328    14296\n",
       "329    10280\n",
       "330    14301\n",
       "331     6071\n",
       "Name: index, Length: 332, dtype: int64"
      ]
     },
     "execution_count": 20,
     "metadata": {},
     "output_type": "execute_result"
    }
   ],
   "source": [
    "# Display the user index of multiple reviews\n",
    "multi_review_user_idx = tmp[tmp['count'] >1]\n",
    "multi_review_user_idx = multi_review_user_idx['index']\n",
    "multi_review_user_idx"
   ]
  },
  {
   "cell_type": "code",
   "execution_count": 21,
   "metadata": {},
   "outputs": [],
   "source": [
    "# Use users latest rating as the final rating\n",
    "\n",
    "for idxx in range(len(multi_review_user_idx)):\n",
    "    tmp = df_hotels[(df_hotels.username == a.loc[multi_review_user_idx[idxx],'username'][0]) &\n",
    "           (df_hotels.Hotel_name == a.loc[multi_review_user_idx[idxx],'Hotel_name'][0])].sort_values(\n",
    "        by = 'date',ascending = True)\n",
    "    \n",
    "    df_hotels.drop(tmp.index[0:len(tmp.index)-1],inplace=True)\n",
    "    "
   ]
  },
  {
   "cell_type": "code",
   "execution_count": 22,
   "metadata": {},
   "outputs": [
    {
     "data": {
      "text/plain": [
       "(0, 2)"
      ]
     },
     "execution_count": 22,
     "metadata": {},
     "output_type": "execute_result"
    }
   ],
   "source": [
    "# check if all duplicated ratings are removed\n",
    "\n",
    "b = df_hotels.groupby(['Hotel_name','username']).agg(['count']).reset_index()\n",
    "tmp = b.rating.sort_values(by = 'count',ascending = False).reset_index()\n",
    "tmp[tmp['count'] >1].shape"
   ]
  },
  {
   "cell_type": "code",
   "execution_count": 23,
   "metadata": {
    "scrolled": true
   },
   "outputs": [
    {
     "data": {
      "text/html": [
       "<div>\n",
       "<style scoped>\n",
       "    .dataframe tbody tr th:only-of-type {\n",
       "        vertical-align: middle;\n",
       "    }\n",
       "\n",
       "    .dataframe tbody tr th {\n",
       "        vertical-align: top;\n",
       "    }\n",
       "\n",
       "    .dataframe thead tr th {\n",
       "        text-align: left;\n",
       "    }\n",
       "</style>\n",
       "<table border=\"1\" class=\"dataframe\">\n",
       "  <thead>\n",
       "    <tr>\n",
       "      <th></th>\n",
       "      <th>Hotel_name</th>\n",
       "      <th>username</th>\n",
       "      <th>id</th>\n",
       "      <th>type</th>\n",
       "      <th>date</th>\n",
       "      <th>title</th>\n",
       "      <th>text</th>\n",
       "      <th>rating</th>\n",
       "      <th>helpfulness</th>\n",
       "      <th>total_points</th>\n",
       "      <th>Url</th>\n",
       "      <th>City</th>\n",
       "      <th>userid</th>\n",
       "      <th>hotelid</th>\n",
       "    </tr>\n",
       "    <tr>\n",
       "      <th></th>\n",
       "      <th></th>\n",
       "      <th></th>\n",
       "      <th>count</th>\n",
       "      <th>count</th>\n",
       "      <th>count</th>\n",
       "      <th>count</th>\n",
       "      <th>count</th>\n",
       "      <th>count</th>\n",
       "      <th>count</th>\n",
       "      <th>count</th>\n",
       "      <th>count</th>\n",
       "      <th>count</th>\n",
       "      <th>count</th>\n",
       "      <th>count</th>\n",
       "    </tr>\n",
       "  </thead>\n",
       "  <tbody>\n",
       "    <tr>\n",
       "      <th>0</th>\n",
       "      <td>10 The Coffee House</td>\n",
       "      <td>DorsetTravelmad</td>\n",
       "      <td>1</td>\n",
       "      <td>1</td>\n",
       "      <td>1</td>\n",
       "      <td>1</td>\n",
       "      <td>1</td>\n",
       "      <td>1</td>\n",
       "      <td>0</td>\n",
       "      <td>1</td>\n",
       "      <td>1</td>\n",
       "      <td>1</td>\n",
       "      <td>1</td>\n",
       "      <td>1</td>\n",
       "    </tr>\n",
       "    <tr>\n",
       "      <th>1</th>\n",
       "      <td>11@Century Hotel</td>\n",
       "      <td>AlvinTSingapore</td>\n",
       "      <td>1</td>\n",
       "      <td>1</td>\n",
       "      <td>1</td>\n",
       "      <td>1</td>\n",
       "      <td>1</td>\n",
       "      <td>1</td>\n",
       "      <td>1</td>\n",
       "      <td>1</td>\n",
       "      <td>1</td>\n",
       "      <td>1</td>\n",
       "      <td>1</td>\n",
       "      <td>1</td>\n",
       "    </tr>\n",
       "    <tr>\n",
       "      <th>2</th>\n",
       "      <td>137 Pillars House</td>\n",
       "      <td>Bird-Bird-Blogger</td>\n",
       "      <td>1</td>\n",
       "      <td>1</td>\n",
       "      <td>1</td>\n",
       "      <td>1</td>\n",
       "      <td>1</td>\n",
       "      <td>1</td>\n",
       "      <td>1</td>\n",
       "      <td>1</td>\n",
       "      <td>1</td>\n",
       "      <td>1</td>\n",
       "      <td>1</td>\n",
       "      <td>1</td>\n",
       "    </tr>\n",
       "    <tr>\n",
       "      <th>3</th>\n",
       "      <td>15 Church Street Bed &amp; Breakfast - Phillips-Ya...</td>\n",
       "      <td>Bear_Eskimo</td>\n",
       "      <td>1</td>\n",
       "      <td>1</td>\n",
       "      <td>1</td>\n",
       "      <td>1</td>\n",
       "      <td>1</td>\n",
       "      <td>1</td>\n",
       "      <td>1</td>\n",
       "      <td>1</td>\n",
       "      <td>1</td>\n",
       "      <td>1</td>\n",
       "      <td>1</td>\n",
       "      <td>1</td>\n",
       "    </tr>\n",
       "    <tr>\n",
       "      <th>4</th>\n",
       "      <td>16 Beach Street Bed and Breakfast</td>\n",
       "      <td>Anrmd</td>\n",
       "      <td>1</td>\n",
       "      <td>1</td>\n",
       "      <td>1</td>\n",
       "      <td>1</td>\n",
       "      <td>1</td>\n",
       "      <td>1</td>\n",
       "      <td>1</td>\n",
       "      <td>1</td>\n",
       "      <td>1</td>\n",
       "      <td>1</td>\n",
       "      <td>1</td>\n",
       "      <td>1</td>\n",
       "    </tr>\n",
       "  </tbody>\n",
       "</table>\n",
       "</div>"
      ],
      "text/plain": [
       "                                          Hotel_name           username    id  \\\n",
       "                                                                        count   \n",
       "0                                10 The Coffee House    DorsetTravelmad     1   \n",
       "1                                   11@Century Hotel    AlvinTSingapore     1   \n",
       "2                                  137 Pillars House  Bird-Bird-Blogger     1   \n",
       "3  15 Church Street Bed & Breakfast - Phillips-Ya...        Bear_Eskimo     1   \n",
       "4                  16 Beach Street Bed and Breakfast              Anrmd     1   \n",
       "\n",
       "   type  date title  text rating helpfulness total_points   Url  City userid  \\\n",
       "  count count count count  count       count        count count count  count   \n",
       "0     1     1     1     1      1           0            1     1     1      1   \n",
       "1     1     1     1     1      1           1            1     1     1      1   \n",
       "2     1     1     1     1      1           1            1     1     1      1   \n",
       "3     1     1     1     1      1           1            1     1     1      1   \n",
       "4     1     1     1     1      1           1            1     1     1      1   \n",
       "\n",
       "  hotelid  \n",
       "    count  \n",
       "0       1  \n",
       "1       1  \n",
       "2       1  \n",
       "3       1  \n",
       "4       1  "
      ]
     },
     "execution_count": 23,
     "metadata": {},
     "output_type": "execute_result"
    }
   ],
   "source": [
    "#Check to see duplicated ratings are removed \n",
    "tmp = df_hotels.groupby(['Hotel_name','username']).agg(['count']).reset_index()\n",
    "tmp.head(5)"
   ]
  },
  {
   "cell_type": "code",
   "execution_count": 24,
   "metadata": {
    "scrolled": false
   },
   "outputs": [
    {
     "data": {
      "text/plain": [
       "'Decent Hotel next to station so good location for getting round Stockholm - room a little on the small size - due for a refurbishment - but was still comfortable - room was quiet.\\n\\nBreakfast Buffet good of a morning though not quite as good as the Readisson Waterfront round the corner.\\n\\nStayed on the 6th floor in a corner room near the lifts and staircase - could smell the chlorine coming from the pool in the basement! in the corrindor though not in the room.\\n\\nWould recommend it'"
      ]
     },
     "execution_count": 24,
     "metadata": {},
     "output_type": "execute_result"
    }
   ],
   "source": [
    "# Display sample hotel review text for the first user\n",
    "df_hotels.text[0]"
   ]
  },
  {
   "cell_type": "code",
   "execution_count": 25,
   "metadata": {},
   "outputs": [
    {
     "data": {
      "text/plain": [
       "Index(['id', 'username', 'type', 'date', 'title', 'text', 'rating',\n",
       "       'helpfulness', 'total_points', 'Hotel_name', 'Url', 'City', 'userid',\n",
       "       'hotelid'],\n",
       "      dtype='object')"
      ]
     },
     "execution_count": 25,
     "metadata": {},
     "output_type": "execute_result"
    }
   ],
   "source": [
    "df_hotels.columns"
   ]
  },
  {
   "cell_type": "code",
   "execution_count": 26,
   "metadata": {},
   "outputs": [],
   "source": [
    "# Set the Users rating scale\n",
    "reader = Reader(rating_scale=(1, 5))\n",
    "\n",
    "# Create Surprise package datsets with userid, hotelid and ratings\n",
    "data = Dataset.load_from_df(\n",
    "    df_hotels[['userid', 'hotelid', 'rating']], reader)\n"
   ]
  },
  {
   "cell_type": "code",
   "execution_count": 27,
   "metadata": {},
   "outputs": [],
   "source": [
    "# Colloborative filtering method using user hotel rating matrix\n",
    "# BenchMarking different machine leerning algorithms from Surprise package for Colloborative filtering based Recommender systems\n",
    "# To avoid bias, same parameters was given to all benchmarking algorithms, crossvalidation is set to 5 and no of jobs as 5.\n",
    "\n",
    "# Applying KNN based algorithms to the user hotel rating matrix\n",
    "\n",
    "# KNN_BASIC\n",
    "knnbasic_cv = cross_validate(KNNBasic(), data, cv=5, n_jobs=5, verbose=False)\n",
    "# Using KNN Mean\n",
    "knnmeans_cv = cross_validate(KNNWithMeans(), data, cv=5, n_jobs=5, verbose=False)\n",
    "# Using KNN Z-score\n",
    "knnz_cv = cross_validate(KNNWithZScore(), data, cv=5, n_jobs=5, verbose=False)\n",
    "# Using KNN Baseline\n",
    "knnB_cv = cross_validate(KNNBaseline(), data, cv=5, n_jobs=5, verbose=False)"
   ]
  },
  {
   "cell_type": "code",
   "execution_count": 28,
   "metadata": {},
   "outputs": [],
   "source": [
    "# Applying Matrix Factorisation based algorithms to the user hotel rating matrix\n",
    "# Uising SVD\n",
    "svd_cv = cross_validate(SVD(), data, cv=5, n_jobs=5, verbose=False)\n",
    "# Uising SVDpp\n",
    "svdpp_cv = cross_validate(SVDpp(), data, cv=5, n_jobs=5, verbose=False)\n",
    "# Uising NMF\n",
    "nmf_cv = cross_validate(NMF(), data, cv=5, n_jobs=5, verbose=False)\n"
   ]
  },
  {
   "cell_type": "code",
   "execution_count": 29,
   "metadata": {},
   "outputs": [],
   "source": [
    "# Applying other Colloborative filtering based algorithms to the user hotel rating matrix\n",
    "# Using Slope One\n",
    "slope_cv = cross_validate(SlopeOne(), data, cv=3, n_jobs=5, verbose=False)\n",
    "# Using Co-CLustering\n",
    "coclus_cv = cross_validate(CoClustering(), data, cv=3, n_jobs=5, verbose=False)\n"
   ]
  },
  {
   "cell_type": "code",
   "execution_count": 30,
   "metadata": {},
   "outputs": [
    {
     "name": "stdout",
     "output_type": "stream",
     "text": [
      "Benchmarking Algorithm\n",
      "---------------------------------\n",
      "Algorithm\t RMSE\t MAE\n",
      "\n",
      "KNN-Based:\n",
      "KNN Basic \t 1.018 \t 0.758\n",
      "KNN Means \t 1.012 \t 0.764\n",
      "KNN ZScore \t 1.013 \t 0.765\n",
      "KNN Baseline \t 0.98 \t 0.757\n",
      "\n",
      "Matrix Factorisation Based:\n",
      "SVD \t\t 0.971 \t 0.758\n",
      "SVDpp \t\t 0.971 \t 0.759\n",
      "NMF \t\t 1.098 \t 0.837\n",
      "\n",
      "Other methods:\n",
      "SlopeOne \t 1.015 \t 0.766\n",
      "CoClustering \t 1.069 \t 0.797\n",
      "\n"
     ]
    }
   ],
   "source": [
    "# Display RMSE and MAE scores for all bechmarking algorithms\n",
    "\n",
    "print('Benchmarking Algorithm')\n",
    "print('---------------------------------')\n",
    "\n",
    "print('Algorithm\\t RMSE\\t MAE')\n",
    "\n",
    "print()\n",
    "print(\"KNN-Based:\")\n",
    "print('KNN Basic', '\\t', round(knnbasic_cv['test_rmse'].mean(), 3), '\\t', round(knnbasic_cv['test_mae'].mean(), 3))\n",
    "print('KNN Means', '\\t', round(knnmeans_cv['test_rmse'].mean(), 3), '\\t', round(knnmeans_cv['test_mae'].mean(), 3))\n",
    "print('KNN ZScore', '\\t', round(knnz_cv['test_rmse'].mean(), 3), '\\t', round(knnz_cv['test_mae'].mean(), 3))\n",
    "print('KNN Baseline', '\\t', round(knnB_cv['test_rmse'].mean(), 3), '\\t', round(knnB_cv['test_mae'].mean(), 3))\n",
    "print()\n",
    "print(\"Matrix Factorisation Based:\")\n",
    "print('SVD', '\\t\\t', round(svd_cv['test_rmse'].mean(), 3), '\\t', round(svd_cv['test_mae'].mean(), 3))\n",
    "print('SVDpp', '\\t\\t', round(svdpp_cv['test_rmse'].mean(), 3), '\\t', round(svdpp_cv['test_mae'].mean(), 3))\n",
    "print('NMF', '\\t\\t', round(nmf_cv['test_rmse'].mean(), 3), '\\t', round(nmf_cv['test_mae'].mean(), 3))\n",
    "print()\n",
    "print(\"Other methods:\")\n",
    "print('SlopeOne', '\\t', round(slope_cv['test_rmse'].mean(), 3), '\\t', round(slope_cv['test_mae'].mean(), 3))\n",
    "print('CoClustering', '\\t', round(coclus_cv['test_rmse'].mean(), 3), '\\t', round(coclus_cv['test_mae'].mean(), 3))\n",
    "\n",
    "print()"
   ]
  },
  {
   "cell_type": "code",
   "execution_count": 32,
   "metadata": {
    "scrolled": true
   },
   "outputs": [
    {
     "data": {
      "image/png": "[encoded data removed]",
      "text/plain": [
       "<Figure size 1800x360 with 2 Axes>"
      ]
     },
     "metadata": {
      "needs_background": "light"
     },
     "output_type": "display_data"
    }
   ],
   "source": [
    "algo = ['KNNBasic', 'KNNMeans', 'KNNZScore', 'KNNBL','SVD', 'SVDpp', 'NMF', 'SlopeOne', 'CoClustering']\n",
    "algos_cv = [knnbasic_cv, knnmeans_cv, knnz_cv,knnB_cv, svd_cv, svdpp_cv, nmf_cv, slope_cv, coclus_cv]\n",
    "\n",
    "rmse_cv = [round(res['test_rmse'].mean(), 4) for res in algos_cv]\n",
    "mae_cv = [round(res['test_mae'].mean(), 4) for res in algos_cv]\n",
    "\n",
    "plt.figure(figsize=(25,5))\n",
    "\n",
    "plt.subplot(1, 2, 1)\n",
    "plt.title('Comparison of Algorithms on RMSE', loc='center', fontsize=15)\n",
    "plt.plot(algo, rmse_cv, label='RMSE', color='navy', marker='o')\n",
    "plt.xlabel('Benchmarking Algorithms', fontsize=15)\n",
    "plt.ylabel('RMSE Value', fontsize=15)\n",
    "plt.legend()\n",
    "plt.grid(ls='dashed')\n",
    "\n",
    "plt.subplot(1, 2, 2)\n",
    "plt.title('Comparison of Algorithms on MAE', loc='center', fontsize=15)\n",
    "plt.plot(algo, mae_cv, label='MAE', color='black', marker='o')\n",
    "plt.xlabel('Benchmarking Algorithms', fontsize=15)\n",
    "plt.ylabel('MAE Value', fontsize=15)\n",
    "plt.legend()\n",
    "plt.grid(ls='dashed')\n",
    "\n",
    "plt.show()"
   ]
  },
  {
   "cell_type": "code",
   "execution_count": 33,
   "metadata": {},
   "outputs": [],
   "source": [
    "# The bechmarking results shows that SVDpp, SVD, KNN-Baseline, BaselineOnly are the best algorithms \n",
    "# Based on RMSE score and MAE score SVD and SVDpp are the better algorithms comapred to other KNN and other algoritms\n",
    "# We develop a COlloborative filtering Recommednder system using SVD snd SVDpp\n",
    "# We need to fine tune the parameters to improve the SVD and SVDpp model.\n",
    "# We use gridsearchCV algorithm to tune the hyperparameters"
   ]
  },
  {
   "cell_type": "code",
   "execution_count": 34,
   "metadata": {},
   "outputs": [],
   "source": [
    "# create a dataframe to record grid search results\n",
    "grid_search_result = pd.DataFrame(columns=['algorithm', 'param_grid', 'best_rmse_score', 'best_params', 'test_prediction_rmse', 'fit_time'])"
   ]
  },
  {
   "cell_type": "code",
   "execution_count": 35,
   "metadata": {},
   "outputs": [],
   "source": [
    "# Data is shuffled to remove any biases.\n",
    "import random\n",
    "my_seed = 100\n",
    "random.seed(my_seed)\n",
    "# Data is suffuled to remove any biases.\n",
    "raw_ratings = data.raw_ratings\n",
    "random.shuffle(raw_ratings)\n",
    "\n",
    "# Training_set is the training set which is 80% of the shuffled data\n",
    "threshold = int(.8 * len(raw_ratings))\n",
    "A_raw_ratings = raw_ratings[:threshold]\n",
    "B_raw_ratings = raw_ratings[threshold:]\n",
    "\n",
    "data.raw_ratings = A_raw_ratings"
   ]
  },
  {
   "cell_type": "code",
   "execution_count": 36,
   "metadata": {},
   "outputs": [
    {
     "name": "stdout",
     "output_type": "stream",
     "text": [
      "Using SVDpp\n",
      "Best RMSE score: 0.9766211575000648\n",
      "Best Model parameters: {'n_epochs': 23, 'lr_all': 0.01, 'reg_all': 0.25}\n",
      "Biased accuracy on the full training set,   RMSE: 0.6531\n",
      "Unbiased accuracy on the full training set, RMSE: 0.9569\n",
      "RMSE: 0.9569\n"
     ]
    }
   ],
   "source": [
    "# Using SVDpp and we train the hyper parameters using GridSearchCV\n",
    "# Parameters:Learning rate = 0.01, no of epochs is 23,25,27 \n",
    "print('Using SVDpp')\n",
    "\n",
    "n_epochs = [23, 25, 27]\n",
    "lr_all = [0.01]\n",
    "reg_all = [0.15, 0.2, 0.25]\n",
    "\n",
    "param_grid = {'n_epochs': n_epochs, 'lr_all': lr_all, 'reg_all': reg_all}\n",
    "gs1 = GridSearchCV(SVDpp, param_grid, measures=['rmse'], cv=5)\n",
    "t0 = t.time()\n",
    "gs1.fit(data)\n",
    "t1 = t.time()\n",
    "svdpp_lapsed = t1-t0\n",
    "\n",
    "print(\"Best RMSE score: \" + str (gs1.best_score['rmse']))\n",
    "print(\"Best Model parameters: \"+ str (gs1.best_params['rmse']))\n",
    "\n",
    "algo = gs1.best_estimator['rmse']\n",
    "\n",
    "# Retrain on the whole dataset\n",
    "trainset = data.build_full_trainset()\n",
    "algo.fit(trainset)\n",
    "\n",
    "# Compute biased accuracy\n",
    "svdpp_bpredictions = algo.test(trainset.build_testset())\n",
    "print('Biased accuracy on the full training set,', end='   ')\n",
    "accuracy.rmse(svdpp_bpredictions)\n",
    "\n",
    "# Compute unbiased accuracy using testset, B_raw_ratings\n",
    "testset = data.construct_testset(B_raw_ratings)  # testset is now the set B\n",
    "svdpp_upredictions = algo.test(testset)\n",
    "print('Unbiased accuracy on the full training set,', end=' ')\n",
    "accuracy.rmse(svdpp_upredictions)\n",
    "\n",
    "grid_search_result = grid_search_result.append({'algorithm':'SVDpp', 'param_grid':{'n_epochs':n_epochs, 'lr_all':lr_all, 'reg_all':reg_all}, 'best_rmse_score':gs1.best_score['rmse'], 'best_params':gs1.best_params['rmse'], 'test_prediction_rmse':accuracy.rmse(svdpp_upredictions), 'fit_time':svdpp_lapsed}, ignore_index=True)"
   ]
  },
  {
   "cell_type": "code",
   "execution_count": 37,
   "metadata": {},
   "outputs": [
    {
     "name": "stdout",
     "output_type": "stream",
     "text": [
      "Using SVD\n",
      "Best RMSE score: 0.9770527867711918\n",
      "Best Model parameters: {'n_epochs': 23, 'lr_all': 0.01, 'reg_all': 0.2}\n",
      "Biased accuracy on the complete training set,   RMSE: 0.5546\n",
      "Unbiased accuracy on the complete training set, RMSE: 0.9559\n",
      "RMSE: 0.9559\n"
     ]
    }
   ],
   "source": [
    "# Using SVD algorithm and we train the hyper parameters using GridSearchCV\n",
    "# Parameters:Learning rate = 0.01, no of epochs is 23,25,27\n",
    "print('Using SVD')\n",
    "\n",
    "n_epochs = [23, 25, 27]\n",
    "lr_all = [0.01]\n",
    "reg_all = [0.2]\n",
    "\n",
    "param_grid = {'n_epochs':n_epochs, 'lr_all':lr_all, 'reg_all':reg_all}\n",
    "gs3 = GridSearchCV(SVD, param_grid, measures=['rmse', 'mae'], cv=5)\n",
    "t0 = t.time()\n",
    "gs3.fit(data)\n",
    "t1 = t.time()\n",
    "svd_lapsed = t1-t0\n",
    "\n",
    "print(\"Best RMSE score: \" + str(gs3.best_score['rmse']))\n",
    "print(\"Best Model parameters: \" + str(gs3.best_params['rmse']))\n",
    "\n",
    "algo = gs3.best_estimator['rmse']\n",
    "\n",
    "# retrain on the whole dataset\n",
    "trainset = data.build_full_trainset()\n",
    "algo.fit(trainset)\n",
    "\n",
    "# Compute biased accuracy\n",
    "svd_bpredictions = algo.test(trainset.build_testset())\n",
    "print('Biased accuracy on the complete training set,', end='   ')\n",
    "accuracy.rmse(svd_bpredictions)\n",
    "\n",
    "# Compute unbiased accuracy using testset, B_raw_ratings\n",
    "testset = data.construct_testset(B_raw_ratings)  # testset is now the set B\n",
    "svd_upredictions = algo.test(testset)\n",
    "print('Unbiased accuracy on the complete training set,', end=' ')\n",
    "accuracy.rmse(svd_upredictions)\n",
    "\n",
    "grid_search_result = grid_search_result.append({'algorithm':'SVD', 'param_grid':{'n_epochs':n_epochs, 'lr_all':lr_all, 'reg_all':reg_all}, 'best_rmse_score':gs3.best_score['rmse'], 'best_params':gs3.best_params['rmse'], 'test_prediction_rmse':accuracy.rmse(svd_upredictions), 'fit_time':svd_lapsed}, ignore_index=True)"
   ]
  },
  {
   "cell_type": "code",
   "execution_count": 38,
   "metadata": {
    "scrolled": true
   },
   "outputs": [
    {
     "data": {
      "text/html": [
       "<div>\n",
       "<style scoped>\n",
       "    .dataframe tbody tr th:only-of-type {\n",
       "        vertical-align: middle;\n",
       "    }\n",
       "\n",
       "    .dataframe tbody tr th {\n",
       "        vertical-align: top;\n",
       "    }\n",
       "\n",
       "    .dataframe thead th {\n",
       "        text-align: right;\n",
       "    }\n",
       "</style>\n",
       "<table border=\"1\" class=\"dataframe\">\n",
       "  <thead>\n",
       "    <tr style=\"text-align: right;\">\n",
       "      <th></th>\n",
       "      <th>algorithm</th>\n",
       "      <th>param_grid</th>\n",
       "      <th>best_rmse_score</th>\n",
       "      <th>best_params</th>\n",
       "      <th>test_prediction_rmse</th>\n",
       "      <th>fit_time</th>\n",
       "    </tr>\n",
       "  </thead>\n",
       "  <tbody>\n",
       "    <tr>\n",
       "      <th>0</th>\n",
       "      <td>SVDpp</td>\n",
       "      <td>{'n_epochs': [23, 25, 27], 'lr_all': [0.01], '...</td>\n",
       "      <td>0.976621</td>\n",
       "      <td>{'n_epochs': 23, 'lr_all': 0.01, 'reg_all': 0.25}</td>\n",
       "      <td>0.956923</td>\n",
       "      <td>370.738923</td>\n",
       "    </tr>\n",
       "    <tr>\n",
       "      <th>1</th>\n",
       "      <td>SVD</td>\n",
       "      <td>{'n_epochs': [23, 25, 27], 'lr_all': [0.01], '...</td>\n",
       "      <td>0.977053</td>\n",
       "      <td>{'n_epochs': 23, 'lr_all': 0.01, 'reg_all': 0.2}</td>\n",
       "      <td>0.955933</td>\n",
       "      <td>23.596644</td>\n",
       "    </tr>\n",
       "  </tbody>\n",
       "</table>\n",
       "</div>"
      ],
      "text/plain": [
       "  algorithm                                         param_grid  \\\n",
       "0     SVDpp  {'n_epochs': [23, 25, 27], 'lr_all': [0.01], '...   \n",
       "1       SVD  {'n_epochs': [23, 25, 27], 'lr_all': [0.01], '...   \n",
       "\n",
       "   best_rmse_score                                        best_params  \\\n",
       "0         0.976621  {'n_epochs': 23, 'lr_all': 0.01, 'reg_all': 0.25}   \n",
       "1         0.977053   {'n_epochs': 23, 'lr_all': 0.01, 'reg_all': 0.2}   \n",
       "\n",
       "   test_prediction_rmse    fit_time  \n",
       "0              0.956923  370.738923  \n",
       "1              0.955933   23.596644  "
      ]
     },
     "execution_count": 38,
     "metadata": {},
     "output_type": "execute_result"
    }
   ],
   "source": [
    "grid_search_result.head()"
   ]
  },
  {
   "cell_type": "code",
   "execution_count": 39,
   "metadata": {},
   "outputs": [],
   "source": [
    "# # Dump best algorithm and reload it.\n",
    "# file_name = os.path.expanduser('surprise_SVD_model')\n",
    "# dump.dump(file_name, algo=algo)\n",
    "# _, loaded_algo = dump.load(file_name)\n"
   ]
  },
  {
   "cell_type": "code",
   "execution_count": 40,
   "metadata": {},
   "outputs": [],
   "source": [
    "# Function to get top 10 recommended hotels\n",
    "\n",
    "def get_top_n(predictions, n=10):\n",
    "    # First map the predictions to each user.\n",
    "    top_n = defaultdict(list)\n",
    "    for uid, hid, true_r, est, _ in predictions:\n",
    "        top_n[uid].append((hid, est))\n",
    "\n",
    "    # Then sort the predictions for each user and retrieve the 10 highest ones.\n",
    "    for uid, user_ratings in top_n.items():\n",
    "        user_ratings.sort(key=lambda x: x[1], reverse=True)\n",
    "        top_n[uid] = user_ratings[:n]\n",
    "\n",
    "    return top_n\n"
   ]
  },
  {
   "cell_type": "code",
   "execution_count": 41,
   "metadata": {},
   "outputs": [],
   "source": [
    "# We finally use the SVDpp algorithm as its the best from all the bench marking algorithms\n",
    "\n",
    "from collections import defaultdict\n",
    "# First train an SVDpp algorithm\n",
    "data = Dataset.load_from_df(df_hotels[['userid', 'hotelid', 'rating']], reader)\n",
    "trainset = data.build_full_trainset()\n",
    "algo = loaded_algo\n",
    "algo.fit(trainset)\n",
    "\n",
    "# Than predict ratings for all pairs (u, i) that are NOT in the training set.\n",
    "testset = trainset.build_anti_testset()\n",
    "predictions = algo.test(testset)\n",
    "\n",
    "top_n = get_top_n(predictions, n=10)"
   ]
  },
  {
   "cell_type": "code",
   "execution_count": 42,
   "metadata": {},
   "outputs": [],
   "source": [
    "# Creating a pickle file\n",
    "import pickle\n",
    "filename = 'Top_Predictions1'\n",
    "outfile = open(filename,'wb')\n",
    "pickle.dump(top_n,outfile)\n",
    "outfile.close()\n",
    "\n",
    "# # saving the predicted top 10 recommendations of the SVD model with pickle\n",
    "# with open(\"Top_Predictions\", wb) as tp:\n",
    "#     pickle.dump(top_n, tp)"
   ]
  },
  {
   "cell_type": "code",
   "execution_count": 43,
   "metadata": {},
   "outputs": [],
   "source": [
    "top_n = pd.read_pickle(\"./Top_Predictions1\")"
   ]
  },
  {
   "cell_type": "code",
   "execution_count": 44,
   "metadata": {
    "scrolled": true
   },
   "outputs": [
    {
     "data": {
      "text/html": [
       "<div>\n",
       "<style scoped>\n",
       "    .dataframe tbody tr th:only-of-type {\n",
       "        vertical-align: middle;\n",
       "    }\n",
       "\n",
       "    .dataframe tbody tr th {\n",
       "        vertical-align: top;\n",
       "    }\n",
       "\n",
       "    .dataframe thead th {\n",
       "        text-align: right;\n",
       "    }\n",
       "</style>\n",
       "<table border=\"1\" class=\"dataframe\">\n",
       "  <thead>\n",
       "    <tr style=\"text-align: right;\">\n",
       "      <th></th>\n",
       "      <th>username</th>\n",
       "      <th>userid</th>\n",
       "      <th>Hotel_name</th>\n",
       "      <th>rating</th>\n",
       "    </tr>\n",
       "  </thead>\n",
       "  <tbody>\n",
       "    <tr>\n",
       "      <th>0</th>\n",
       "      <td>ARugby</td>\n",
       "      <td>100</td>\n",
       "      <td>BEST WESTERN Pontypool Metro Hotel</td>\n",
       "      <td>5.0</td>\n",
       "    </tr>\n",
       "    <tr>\n",
       "      <th>1</th>\n",
       "      <td>ARugby</td>\n",
       "      <td>100</td>\n",
       "      <td>Bush Sand and Sea</td>\n",
       "      <td>5.0</td>\n",
       "    </tr>\n",
       "    <tr>\n",
       "      <th>2</th>\n",
       "      <td>ARugby</td>\n",
       "      <td>100</td>\n",
       "      <td>Aoraki Court Motel at Aoraki/Mt Cook Village</td>\n",
       "      <td>5.0</td>\n",
       "    </tr>\n",
       "    <tr>\n",
       "      <th>3</th>\n",
       "      <td>ARugby</td>\n",
       "      <td>100</td>\n",
       "      <td>Lyons Rock Bed and Breakfast</td>\n",
       "      <td>5.0</td>\n",
       "    </tr>\n",
       "    <tr>\n",
       "      <th>4</th>\n",
       "      <td>ARugby</td>\n",
       "      <td>100</td>\n",
       "      <td>Hanoi Elegance Diamond Hotel</td>\n",
       "      <td>5.0</td>\n",
       "    </tr>\n",
       "    <tr>\n",
       "      <th>5</th>\n",
       "      <td>ARugby</td>\n",
       "      <td>100</td>\n",
       "      <td>Hotel Berg</td>\n",
       "      <td>5.0</td>\n",
       "    </tr>\n",
       "    <tr>\n",
       "      <th>6</th>\n",
       "      <td>ARugby</td>\n",
       "      <td>100</td>\n",
       "      <td>West Ham United Hotel</td>\n",
       "      <td>3.0</td>\n",
       "    </tr>\n",
       "    <tr>\n",
       "      <th>7</th>\n",
       "      <td>ARugby</td>\n",
       "      <td>100</td>\n",
       "      <td>Cromore Halt Inn</td>\n",
       "      <td>5.0</td>\n",
       "    </tr>\n",
       "    <tr>\n",
       "      <th>8</th>\n",
       "      <td>ARugby</td>\n",
       "      <td>100</td>\n",
       "      <td>Slebech Park</td>\n",
       "      <td>3.0</td>\n",
       "    </tr>\n",
       "  </tbody>\n",
       "</table>\n",
       "</div>"
      ],
      "text/plain": [
       "  username  userid                                    Hotel_name  rating\n",
       "0   ARugby     100            BEST WESTERN Pontypool Metro Hotel     5.0\n",
       "1   ARugby     100                             Bush Sand and Sea     5.0\n",
       "2   ARugby     100  Aoraki Court Motel at Aoraki/Mt Cook Village     5.0\n",
       "3   ARugby     100                  Lyons Rock Bed and Breakfast     5.0\n",
       "4   ARugby     100                  Hanoi Elegance Diamond Hotel     5.0\n",
       "5   ARugby     100                                    Hotel Berg     5.0\n",
       "6   ARugby     100                         West Ham United Hotel     3.0\n",
       "7   ARugby     100                              Cromore Halt Inn     5.0\n",
       "8   ARugby     100                                  Slebech Park     3.0"
      ]
     },
     "execution_count": 44,
     "metadata": {},
     "output_type": "execute_result"
    }
   ],
   "source": [
    "# getting all hotels that a particular user reviewed\n",
    "df_hotels.loc[df_hotels[\"userid\"] == 100][[ \"username\",\"userid\", \"Hotel_name\", \"rating\"]].reset_index(drop = True)"
   ]
  },
  {
   "cell_type": "code",
   "execution_count": 45,
   "metadata": {
    "scrolled": true
   },
   "outputs": [
    {
     "data": {
      "text/html": [
       "<div>\n",
       "<style scoped>\n",
       "    .dataframe tbody tr th:only-of-type {\n",
       "        vertical-align: middle;\n",
       "    }\n",
       "\n",
       "    .dataframe tbody tr th {\n",
       "        vertical-align: top;\n",
       "    }\n",
       "\n",
       "    .dataframe thead th {\n",
       "        text-align: right;\n",
       "    }\n",
       "</style>\n",
       "<table border=\"1\" class=\"dataframe\">\n",
       "  <thead>\n",
       "    <tr style=\"text-align: right;\">\n",
       "      <th></th>\n",
       "      <th>Hotel_name</th>\n",
       "      <th>rating</th>\n",
       "    </tr>\n",
       "  </thead>\n",
       "  <tbody>\n",
       "    <tr>\n",
       "      <th>1</th>\n",
       "      <td>Hilton London Tower Bridge</td>\n",
       "      <td>5.0</td>\n",
       "    </tr>\n",
       "    <tr>\n",
       "      <th>2</th>\n",
       "      <td>Hilton London Paddington</td>\n",
       "      <td>5.0</td>\n",
       "    </tr>\n",
       "    <tr>\n",
       "      <th>4</th>\n",
       "      <td>Pan Pacific Singapore</td>\n",
       "      <td>5.0</td>\n",
       "    </tr>\n",
       "    <tr>\n",
       "      <th>6</th>\n",
       "      <td>InterContinental Singapore</td>\n",
       "      <td>5.0</td>\n",
       "    </tr>\n",
       "    <tr>\n",
       "      <th>8</th>\n",
       "      <td>The Talbott Hotel</td>\n",
       "      <td>5.0</td>\n",
       "    </tr>\n",
       "    <tr>\n",
       "      <th>9</th>\n",
       "      <td>DoubleTree by Hilton London Heathrow</td>\n",
       "      <td>5.0</td>\n",
       "    </tr>\n",
       "    <tr>\n",
       "      <th>10</th>\n",
       "      <td>The Langham, Hong Kong</td>\n",
       "      <td>5.0</td>\n",
       "    </tr>\n",
       "    <tr>\n",
       "      <th>11</th>\n",
       "      <td>Jaipur Marriott Hotel</td>\n",
       "      <td>5.0</td>\n",
       "    </tr>\n",
       "    <tr>\n",
       "      <th>12</th>\n",
       "      <td>Hilton Berlin</td>\n",
       "      <td>5.0</td>\n",
       "    </tr>\n",
       "    <tr>\n",
       "      <th>13</th>\n",
       "      <td>The Fairmont Olympic Seattle</td>\n",
       "      <td>5.0</td>\n",
       "    </tr>\n",
       "  </tbody>\n",
       "</table>\n",
       "</div>"
      ],
      "text/plain": [
       "                              Hotel_name  rating\n",
       "1             Hilton London Tower Bridge     5.0\n",
       "2               Hilton London Paddington     5.0\n",
       "4                  Pan Pacific Singapore     5.0\n",
       "6             InterContinental Singapore     5.0\n",
       "8                      The Talbott Hotel     5.0\n",
       "9   DoubleTree by Hilton London Heathrow     5.0\n",
       "10                The Langham, Hong Kong     5.0\n",
       "11                 Jaipur Marriott Hotel     5.0\n",
       "12                         Hilton Berlin     5.0\n",
       "13          The Fairmont Olympic Seattle     5.0"
      ]
     },
     "execution_count": 45,
     "metadata": {},
     "output_type": "execute_result"
    }
   ],
   "source": [
    "# getting the top 10 recommendations for a particular user\n",
    "top_picks = top_n[100]\n",
    "hotels, _ = zip(*top_picks)\n",
    "top_suggestions = pd.DataFrame(columns = [\"Hotel_name\", \"rating\"])\n",
    "for hotel in hotels:\n",
    "    top_suggestions = top_suggestions.append(df_hotels.loc[df_hotels[\"hotelid\"] == hotel][[\"Hotel_name\", \"rating\"]], ignore_index = True)\n",
    "\n",
    "top_hotels = top_suggestions.drop_duplicates(keep = 'last').reset_index(drop = True)\n",
    "top_hotels.drop_duplicates(keep = 'last', subset = 'Hotel_name')"
   ]
  },
  {
   "cell_type": "code",
   "execution_count": 46,
   "metadata": {},
   "outputs": [],
   "source": [
    "# Second Approach\n",
    "# Using both review text and user rating features to build a Matrix Factorisation based Colloborative filtering Recommender system"
   ]
  },
  {
   "cell_type": "code",
   "execution_count": 47,
   "metadata": {},
   "outputs": [],
   "source": [
    "# Second Approach\n",
    "# Using both review text and user rating features to build a Matrix Factorisation based Colloborative filtering Recommender system\n",
    "from sklearn.model_selection import train_test_split\n",
    "from sklearn.feature_extraction.text import TfidfVectorizer\n",
    "from nltk.corpus import stopwords \n",
    "from nltk.tokenize import WordPunctTokenizer\n",
    "import string\n",
    "import re"
   ]
  },
  {
   "cell_type": "code",
   "execution_count": 48,
   "metadata": {},
   "outputs": [],
   "source": [
    "# Function for Text cleaning, remove stop words from the review text\n",
    "def clean_text(text):\n",
    "    text = text.translate(string.punctuation)\n",
    "    \n",
    "    ## Convert words to lower case and split them\n",
    "    text = text.lower().split()\n",
    "    \n",
    "    ## Remove stop words\n",
    "    stops = set(stopwords.words(\"english\"))\n",
    "    text = [w for w in text if not w in stops and len(w) >= 3]\n",
    "    \n",
    "    text = \" \".join(text)\n",
    "    \n",
    "    # Clean the text\n",
    "    text = re.sub(r\"[^A-Za-z0-9^,!.\\/'+-=]\", \" \", text)\n",
    "    text = re.sub(r\"what's\", \"what is \", text)\n",
    "    text = re.sub(r\"\\'s\", \" \", text)\n",
    "    text = re.sub(r\"\\'ve\", \" have \", text)\n",
    "    text = re.sub(r\"n't\", \" not \", text)\n",
    "    text = re.sub(r\"i'm\", \"i am \", text)\n",
    "    text = re.sub(r\"\\'re\", \" are \", text)\n",
    "    text = re.sub(r\"\\'d\", \" would \", text)\n",
    "    text = re.sub(r\"\\'ll\", \" will \", text)\n",
    "    text = re.sub(r\",\", \" \", text)\n",
    "    text = re.sub(r\"\\.\", \" \", text)\n",
    "    text = re.sub(r\"!\", \" ! \", text)\n",
    "    text = re.sub(r\"\\/\", \" \", text)\n",
    "    text = re.sub(r\"\\^\", \" ^ \", text)\n",
    "    text = re.sub(r\"\\+\", \" + \", text)\n",
    "    text = re.sub(r\"\\-\", \" - \", text)\n",
    "    text = re.sub(r\"\\=\", \" = \", text)\n",
    "    text = re.sub(r\"'\", \" \", text)\n",
    "    text = re.sub(r\"(\\d+)(k)\", r\"\\g<1>000\", text)\n",
    "    text = re.sub(r\":\", \" : \", text)\n",
    "    text = re.sub(r\" e g \", \" eg \", text)\n",
    "    text = re.sub(r\" b g \", \" bg \", text)\n",
    "    text = re.sub(r\" u s \", \" american \", text)\n",
    "    text = re.sub(r\"\\0s\", \"0\", text)\n",
    "    text = re.sub(r\" 9 11 \", \"911\", text)\n",
    "    text = re.sub(r\"e - mail\", \"email\", text)\n",
    "    text = re.sub(r\"j k\", \"jk\", text)\n",
    "    text = re.sub(r\"\\s{2,}\", \" \", text)    \n",
    "    return text"
   ]
  },
  {
   "cell_type": "code",
   "execution_count": 49,
   "metadata": {},
   "outputs": [],
   "source": [
    "# Create a dataframe with only necessary columns\n",
    "hotel_data = df_hotels[['Hotel_name', 'username', 'rating', 'text']]"
   ]
  },
  {
   "cell_type": "code",
   "execution_count": 50,
   "metadata": {
    "scrolled": true
   },
   "outputs": [
    {
     "name": "stdout",
     "output_type": "stream",
     "text": [
      "Wall time: 14.5 s\n"
     ]
    },
    {
     "name": "stderr",
     "output_type": "stream",
     "text": [
      "C:\\Users\\Karthik\\Anaconda3\\lib\\site-packages\\ipykernel_launcher.py:2: SettingWithCopyWarning: \n",
      "A value is trying to be set on a copy of a slice from a DataFrame.\n",
      "Try using .loc[row_indexer,col_indexer] = value instead\n",
      "\n",
      "See the caveats in the documentation: http://pandas.pydata.org/pandas-docs/stable/user_guide/indexing.html#returning-a-view-versus-a-copy\n",
      "  \n"
     ]
    }
   ],
   "source": [
    "%%time\n",
    "# Apply Clean text function and remove the stop words\n",
    "hotel_data['text'] = hotel_data['text'].apply(clean_text)"
   ]
  },
  {
   "cell_type": "code",
   "execution_count": 51,
   "metadata": {},
   "outputs": [],
   "source": [
    "#Split dataset into train test with 80% Training and 20% for testing\n",
    "Split_size=0.2\n",
    "X_train, X_valid, y_train, y_valid = train_test_split(hotel_data['text'], hotel_data['Hotel_name'], test_size = Split_size) "
   ]
  },
  {
   "cell_type": "code",
   "execution_count": 52,
   "metadata": {},
   "outputs": [],
   "source": [
    "userid_df = hotel_data[['username','text']]\n",
    "hotelid_df = hotel_data[['Hotel_name', 'text']]"
   ]
  },
  {
   "cell_type": "code",
   "execution_count": 53,
   "metadata": {},
   "outputs": [],
   "source": [
    "userid_df = userid_df.groupby('username').agg({'text': ' '.join})\n",
    "hotelid_df = hotelid_df.groupby('Hotel_name').agg({'text': ' '.join})\n"
   ]
  },
  {
   "cell_type": "code",
   "execution_count": 54,
   "metadata": {},
   "outputs": [
    {
     "data": {
      "text/plain": [
       "(1098, 1000)"
      ]
     },
     "execution_count": 54,
     "metadata": {},
     "output_type": "execute_result"
    }
   ],
   "source": [
    "#Use TfidfVectorizer to create userid vectorizer\n",
    "userid_vectorizer = TfidfVectorizer(tokenizer = WordPunctTokenizer().tokenize, max_features=1000)\n",
    "userid_vectors = userid_vectorizer.fit_transform(userid_df['text'])\n",
    "userid_vectors.shape"
   ]
  },
  {
   "cell_type": "code",
   "execution_count": 55,
   "metadata": {},
   "outputs": [
    {
     "data": {
      "text/plain": [
       "(12736, 1000)"
      ]
     },
     "execution_count": 55,
     "metadata": {},
     "output_type": "execute_result"
    }
   ],
   "source": [
    "#Use TfidfVectorizer to create Hotel id vectorizer\n",
    "hotelid_vectorizer = TfidfVectorizer(tokenizer = WordPunctTokenizer().tokenize, max_features=1000)\n",
    "hotelid_vectors = hotelid_vectorizer.fit_transform(hotelid_df['text'])\n",
    "hotelid_vectors.shape"
   ]
  },
  {
   "cell_type": "code",
   "execution_count": 56,
   "metadata": {},
   "outputs": [
    {
     "data": {
      "text/plain": [
       "(1098, 12736)"
      ]
     },
     "execution_count": 56,
     "metadata": {},
     "output_type": "execute_result"
    }
   ],
   "source": [
    "# Create a pivot table for userid rating matrix\n",
    "userid_rating_matrix = pd.pivot_table(hotel_data, values='rating', index=['username'], columns=['Hotel_name'])\n",
    "userid_rating_matrix.shape"
   ]
  },
  {
   "cell_type": "code",
   "execution_count": 57,
   "metadata": {
    "scrolled": true
   },
   "outputs": [
    {
     "data": {
      "text/html": [
       "<div>\n",
       "<style scoped>\n",
       "    .dataframe tbody tr th:only-of-type {\n",
       "        vertical-align: middle;\n",
       "    }\n",
       "\n",
       "    .dataframe tbody tr th {\n",
       "        vertical-align: top;\n",
       "    }\n",
       "\n",
       "    .dataframe thead th {\n",
       "        text-align: right;\n",
       "    }\n",
       "</style>\n",
       "<table border=\"1\" class=\"dataframe\">\n",
       "  <thead>\n",
       "    <tr style=\"text-align: right;\">\n",
       "      <th>Hotel_name</th>\n",
       "      <th>10 The Coffee House</th>\n",
       "      <th>11@Century Hotel</th>\n",
       "      <th>137 Pillars House</th>\n",
       "      <th>15 Church Street Bed &amp; Breakfast - Phillips-Yates-Snowden House</th>\n",
       "      <th>16 Beach Street Bed and Breakfast</th>\n",
       "      <th>1801 First Luxury Inn</th>\n",
       "      <th>1886 Crescent Hotel &amp; Spa</th>\n",
       "      <th>1897 Beekman House</th>\n",
       "      <th>196 Bishopsgate</th>\n",
       "      <th>202 Modern Service Apartments</th>\n",
       "      <th>...</th>\n",
       "      <th>misc eatdrinksleep</th>\n",
       "      <th>naked Stables</th>\n",
       "      <th>nhow Rotterdam</th>\n",
       "      <th>nyma, the New York Manhattan Hotel</th>\n",
       "      <th>pentahotel Leipzig</th>\n",
       "      <th>remm Hibiya</th>\n",
       "      <th>theWit - A DoubleTree by Hilton</th>\n",
       "      <th>uMhlanga Sands Resort</th>\n",
       "      <th>von Stackelberg Hotel Tallinn</th>\n",
       "      <th>with AC, 1BR apt Champ de Mars Near the Eiffel T</th>\n",
       "    </tr>\n",
       "    <tr>\n",
       "      <th>username</th>\n",
       "      <th></th>\n",
       "      <th></th>\n",
       "      <th></th>\n",
       "      <th></th>\n",
       "      <th></th>\n",
       "      <th></th>\n",
       "      <th></th>\n",
       "      <th></th>\n",
       "      <th></th>\n",
       "      <th></th>\n",
       "      <th></th>\n",
       "      <th></th>\n",
       "      <th></th>\n",
       "      <th></th>\n",
       "      <th></th>\n",
       "      <th></th>\n",
       "      <th></th>\n",
       "      <th></th>\n",
       "      <th></th>\n",
       "      <th></th>\n",
       "      <th></th>\n",
       "    </tr>\n",
       "  </thead>\n",
       "  <tbody>\n",
       "    <tr>\n",
       "      <th>007solotraveler</th>\n",
       "      <td>NaN</td>\n",
       "      <td>NaN</td>\n",
       "      <td>NaN</td>\n",
       "      <td>NaN</td>\n",
       "      <td>NaN</td>\n",
       "      <td>NaN</td>\n",
       "      <td>NaN</td>\n",
       "      <td>NaN</td>\n",
       "      <td>NaN</td>\n",
       "      <td>NaN</td>\n",
       "      <td>...</td>\n",
       "      <td>NaN</td>\n",
       "      <td>NaN</td>\n",
       "      <td>NaN</td>\n",
       "      <td>NaN</td>\n",
       "      <td>NaN</td>\n",
       "      <td>NaN</td>\n",
       "      <td>NaN</td>\n",
       "      <td>NaN</td>\n",
       "      <td>NaN</td>\n",
       "      <td>NaN</td>\n",
       "    </tr>\n",
       "    <tr>\n",
       "      <th>0BKI0</th>\n",
       "      <td>NaN</td>\n",
       "      <td>NaN</td>\n",
       "      <td>NaN</td>\n",
       "      <td>NaN</td>\n",
       "      <td>NaN</td>\n",
       "      <td>NaN</td>\n",
       "      <td>NaN</td>\n",
       "      <td>NaN</td>\n",
       "      <td>NaN</td>\n",
       "      <td>NaN</td>\n",
       "      <td>...</td>\n",
       "      <td>NaN</td>\n",
       "      <td>NaN</td>\n",
       "      <td>NaN</td>\n",
       "      <td>NaN</td>\n",
       "      <td>NaN</td>\n",
       "      <td>NaN</td>\n",
       "      <td>NaN</td>\n",
       "      <td>NaN</td>\n",
       "      <td>NaN</td>\n",
       "      <td>NaN</td>\n",
       "    </tr>\n",
       "    <tr>\n",
       "      <th>10179k79</th>\n",
       "      <td>NaN</td>\n",
       "      <td>NaN</td>\n",
       "      <td>NaN</td>\n",
       "      <td>NaN</td>\n",
       "      <td>NaN</td>\n",
       "      <td>NaN</td>\n",
       "      <td>NaN</td>\n",
       "      <td>NaN</td>\n",
       "      <td>NaN</td>\n",
       "      <td>NaN</td>\n",
       "      <td>...</td>\n",
       "      <td>NaN</td>\n",
       "      <td>NaN</td>\n",
       "      <td>NaN</td>\n",
       "      <td>NaN</td>\n",
       "      <td>NaN</td>\n",
       "      <td>NaN</td>\n",
       "      <td>NaN</td>\n",
       "      <td>NaN</td>\n",
       "      <td>NaN</td>\n",
       "      <td>NaN</td>\n",
       "    </tr>\n",
       "    <tr>\n",
       "      <th>124_10</th>\n",
       "      <td>NaN</td>\n",
       "      <td>NaN</td>\n",
       "      <td>NaN</td>\n",
       "      <td>NaN</td>\n",
       "      <td>NaN</td>\n",
       "      <td>NaN</td>\n",
       "      <td>NaN</td>\n",
       "      <td>NaN</td>\n",
       "      <td>NaN</td>\n",
       "      <td>NaN</td>\n",
       "      <td>...</td>\n",
       "      <td>NaN</td>\n",
       "      <td>NaN</td>\n",
       "      <td>NaN</td>\n",
       "      <td>NaN</td>\n",
       "      <td>NaN</td>\n",
       "      <td>NaN</td>\n",
       "      <td>NaN</td>\n",
       "      <td>NaN</td>\n",
       "      <td>NaN</td>\n",
       "      <td>NaN</td>\n",
       "    </tr>\n",
       "    <tr>\n",
       "      <th>12ReasonsWhy</th>\n",
       "      <td>NaN</td>\n",
       "      <td>NaN</td>\n",
       "      <td>NaN</td>\n",
       "      <td>NaN</td>\n",
       "      <td>NaN</td>\n",
       "      <td>NaN</td>\n",
       "      <td>NaN</td>\n",
       "      <td>NaN</td>\n",
       "      <td>NaN</td>\n",
       "      <td>NaN</td>\n",
       "      <td>...</td>\n",
       "      <td>NaN</td>\n",
       "      <td>NaN</td>\n",
       "      <td>NaN</td>\n",
       "      <td>NaN</td>\n",
       "      <td>NaN</td>\n",
       "      <td>NaN</td>\n",
       "      <td>NaN</td>\n",
       "      <td>NaN</td>\n",
       "      <td>NaN</td>\n",
       "      <td>NaN</td>\n",
       "    </tr>\n",
       "  </tbody>\n",
       "</table>\n",
       "<p>5 rows × 12736 columns</p>\n",
       "</div>"
      ],
      "text/plain": [
       "Hotel_name       10 The Coffee House  11@Century Hotel  137 Pillars House  \\\n",
       "username                                                                    \n",
       "007solotraveler                  NaN               NaN                NaN   \n",
       "0BKI0                            NaN               NaN                NaN   \n",
       "10179k79                         NaN               NaN                NaN   \n",
       "124_10                           NaN               NaN                NaN   \n",
       "12ReasonsWhy                     NaN               NaN                NaN   \n",
       "\n",
       "Hotel_name       15 Church Street Bed & Breakfast - Phillips-Yates-Snowden House  \\\n",
       "username                                                                           \n",
       "007solotraveler                                                NaN                 \n",
       "0BKI0                                                          NaN                 \n",
       "10179k79                                                       NaN                 \n",
       "124_10                                                         NaN                 \n",
       "12ReasonsWhy                                                   NaN                 \n",
       "\n",
       "Hotel_name       16 Beach Street Bed and Breakfast  1801 First Luxury Inn  \\\n",
       "username                                                                    \n",
       "007solotraveler                                NaN                    NaN   \n",
       "0BKI0                                          NaN                    NaN   \n",
       "10179k79                                       NaN                    NaN   \n",
       "124_10                                         NaN                    NaN   \n",
       "12ReasonsWhy                                   NaN                    NaN   \n",
       "\n",
       "Hotel_name       1886 Crescent Hotel & Spa  1897 Beekman House  \\\n",
       "username                                                         \n",
       "007solotraveler                        NaN                 NaN   \n",
       "0BKI0                                  NaN                 NaN   \n",
       "10179k79                               NaN                 NaN   \n",
       "124_10                                 NaN                 NaN   \n",
       "12ReasonsWhy                           NaN                 NaN   \n",
       "\n",
       "Hotel_name       196 Bishopsgate  202 Modern Service Apartments  ...  \\\n",
       "username                                                         ...   \n",
       "007solotraveler              NaN                            NaN  ...   \n",
       "0BKI0                        NaN                            NaN  ...   \n",
       "10179k79                     NaN                            NaN  ...   \n",
       "124_10                       NaN                            NaN  ...   \n",
       "12ReasonsWhy                 NaN                            NaN  ...   \n",
       "\n",
       "Hotel_name       misc eatdrinksleep  naked Stables  nhow Rotterdam  \\\n",
       "username                                                             \n",
       "007solotraveler                 NaN            NaN             NaN   \n",
       "0BKI0                           NaN            NaN             NaN   \n",
       "10179k79                        NaN            NaN             NaN   \n",
       "124_10                          NaN            NaN             NaN   \n",
       "12ReasonsWhy                    NaN            NaN             NaN   \n",
       "\n",
       "Hotel_name       nyma, the New York Manhattan Hotel  pentahotel Leipzig  \\\n",
       "username                                                                  \n",
       "007solotraveler                                 NaN                 NaN   \n",
       "0BKI0                                           NaN                 NaN   \n",
       "10179k79                                        NaN                 NaN   \n",
       "124_10                                          NaN                 NaN   \n",
       "12ReasonsWhy                                    NaN                 NaN   \n",
       "\n",
       "Hotel_name       remm Hibiya  theWit - A DoubleTree by Hilton  \\\n",
       "username                                                        \n",
       "007solotraveler          NaN                              NaN   \n",
       "0BKI0                    NaN                              NaN   \n",
       "10179k79                 NaN                              NaN   \n",
       "124_10                   NaN                              NaN   \n",
       "12ReasonsWhy             NaN                              NaN   \n",
       "\n",
       "Hotel_name       uMhlanga Sands Resort  von Stackelberg Hotel Tallinn  \\\n",
       "username                                                                \n",
       "007solotraveler                    NaN                            NaN   \n",
       "0BKI0                              NaN                            NaN   \n",
       "10179k79                           NaN                            NaN   \n",
       "124_10                             NaN                            NaN   \n",
       "12ReasonsWhy                       NaN                            NaN   \n",
       "\n",
       "Hotel_name       with AC, 1BR apt Champ de Mars Near the Eiffel T  \n",
       "username                                                           \n",
       "007solotraveler                                               NaN  \n",
       "0BKI0                                                         NaN  \n",
       "10179k79                                                      NaN  \n",
       "124_10                                                        NaN  \n",
       "12ReasonsWhy                                                  NaN  \n",
       "\n",
       "[5 rows x 12736 columns]"
      ]
     },
     "execution_count": 57,
     "metadata": {},
     "output_type": "execute_result"
    }
   ],
   "source": [
    "userid_rating_matrix.head()"
   ]
  },
  {
   "cell_type": "code",
   "execution_count": 58,
   "metadata": {},
   "outputs": [],
   "source": [
    "# Create two dataframes for userid and Hotel id\n",
    "\n",
    "U = pd.DataFrame(userid_vectors.toarray(), index=userid_df.index, columns=userid_vectorizer.get_feature_names())\n",
    "H = pd.DataFrame(hotelid_vectors.toarray(), index=hotelid_df.index, columns=hotelid_vectorizer.get_feature_names())\n"
   ]
  },
  {
   "cell_type": "code",
   "execution_count": 59,
   "metadata": {},
   "outputs": [],
   "source": [
    "def matrix_factorization(R, U, H, steps=1, gamma=0.001,lamda=0.02):\n",
    "    for step in range(steps):\n",
    "        for i in R.index:\n",
    "            for j in R.columns:\n",
    "                if R.loc[i,j]>0:\n",
    "                    eij=R.loc[i,j]-np.dot(U.loc[i],H.loc[j])\n",
    "                    U.loc[i]=U.loc[i]+gamma*(eij*H.loc[j]-lamda*U.loc[i])\n",
    "                    H.loc[j]=H.loc[j]+gamma*(eij*U.loc[i]-lamda*H.loc[j])\n",
    "        e=0\n",
    "        for i in R.index:\n",
    "            for j in R.columns:\n",
    "                if R.loc[i,j]>0:\n",
    "                    e= e + pow(R.loc[i,j]-np.dot(U.loc[i],H.loc[j]),2)+lamda*(pow(np.linalg.norm(U.loc[i]),2)+pow(np.linalg.norm(H.loc[j]),2))\n",
    "        if e<0.001:\n",
    "            break\n",
    "        \n",
    "    return U,H"
   ]
  },
  {
   "cell_type": "code",
   "execution_count": 60,
   "metadata": {
    "scrolled": true
   },
   "outputs": [
    {
     "name": "stderr",
     "output_type": "stream",
     "text": [
      "C:\\Users\\Karthik\\Anaconda3\\lib\\site-packages\\ipykernel_launcher.py:5: RuntimeWarning: invalid value encountered in greater\n",
      "  \"\"\"\n",
      "C:\\Users\\Karthik\\Anaconda3\\lib\\site-packages\\ipykernel_launcher.py:12: RuntimeWarning: invalid value encountered in greater\n",
      "  if sys.path[0] == '':\n"
     ]
    },
    {
     "name": "stdout",
     "output_type": "stream",
     "text": [
      "Wall time: 15min 31s\n"
     ]
    }
   ],
   "source": [
    "%%time\n",
    "# Apply Matrix Factorization algorithm on the userid_rating_matrix, userid_vector and hotel_id vector matrices\n",
    "U, H = matrix_factorization(userid_rating_matrix, U, H, steps=1, gamma=0.001,lamda=0.02)"
   ]
  },
  {
   "cell_type": "code",
   "execution_count": 61,
   "metadata": {},
   "outputs": [],
   "source": [
    "#Store U, H and vectorizer in pickle file named as Reviewtext_recommendation.pkl\n",
    "import pickle\n",
    "output = open('Reviewtext_recommendation.pkl', 'wb')\n",
    "pickle.dump(U,output)\n",
    "pickle.dump(H,output)\n",
    "pickle.dump(userid_vectorizer,output)\n",
    "output.close()"
   ]
  },
  {
   "cell_type": "code",
   "execution_count": 67,
   "metadata": {},
   "outputs": [
    {
     "data": {
      "text/html": [
       "<div>\n",
       "<style scoped>\n",
       "    .dataframe tbody tr th:only-of-type {\n",
       "        vertical-align: middle;\n",
       "    }\n",
       "\n",
       "    .dataframe tbody tr th {\n",
       "        vertical-align: top;\n",
       "    }\n",
       "\n",
       "    .dataframe thead th {\n",
       "        text-align: right;\n",
       "    }\n",
       "</style>\n",
       "<table border=\"1\" class=\"dataframe\">\n",
       "  <thead>\n",
       "    <tr style=\"text-align: right;\">\n",
       "      <th></th>\n",
       "      <th>Rating</th>\n",
       "    </tr>\n",
       "    <tr>\n",
       "      <th>Hotel_name</th>\n",
       "      <th></th>\n",
       "    </tr>\n",
       "  </thead>\n",
       "  <tbody>\n",
       "    <tr>\n",
       "      <th>Airlines Travel Hotel Shanghai Pudong Airport Branch</th>\n",
       "      <td>0.563156</td>\n",
       "    </tr>\n",
       "    <tr>\n",
       "      <th>Novotel Milano Linate Airport</th>\n",
       "      <td>0.548361</td>\n",
       "    </tr>\n",
       "    <tr>\n",
       "      <th>Montreal Airport Marriott In-Terminal Hotel</th>\n",
       "      <td>0.453559</td>\n",
       "    </tr>\n",
       "    <tr>\n",
       "      <th>Holiday Inn Express At JFK</th>\n",
       "      <td>0.422809</td>\n",
       "    </tr>\n",
       "    <tr>\n",
       "      <th>Quality Airport Hotel Dan</th>\n",
       "      <td>0.416919</td>\n",
       "    </tr>\n",
       "    <tr>\n",
       "      <th>Premier Inn Edinburgh Airport (Newbridge) Hotel</th>\n",
       "      <td>0.414938</td>\n",
       "    </tr>\n",
       "    <tr>\n",
       "      <th>Holiday Inn Express Hotel &amp; Suites Los Angeles Airport Hawthorne</th>\n",
       "      <td>0.414623</td>\n",
       "    </tr>\n",
       "    <tr>\n",
       "      <th>Novotel Suites Paris CDG Airport Villepinte</th>\n",
       "      <td>0.401572</td>\n",
       "    </tr>\n",
       "    <tr>\n",
       "      <th>Aloft Chennai, OMR - IT Expressway</th>\n",
       "      <td>0.393341</td>\n",
       "    </tr>\n",
       "    <tr>\n",
       "      <th>Wingate by Wyndham Missoula</th>\n",
       "      <td>0.385313</td>\n",
       "    </tr>\n",
       "  </tbody>\n",
       "</table>\n",
       "</div>"
      ],
      "text/plain": [
       "                                                      Rating\n",
       "Hotel_name                                                  \n",
       "Airlines Travel Hotel Shanghai Pudong Airport B...  0.563156\n",
       "Novotel Milano Linate Airport                       0.548361\n",
       "Montreal Airport Marriott In-Terminal Hotel         0.453559\n",
       "Holiday Inn Express At JFK                          0.422809\n",
       "Quality Airport Hotel Dan                           0.416919\n",
       "Premier Inn Edinburgh Airport (Newbridge) Hotel     0.414938\n",
       "Holiday Inn Express Hotel & Suites Los Angeles ...  0.414623\n",
       "Novotel Suites Paris CDG Airport Villepinte         0.401572\n",
       "Aloft Chennai, OMR - IT Expressway                  0.393341\n",
       "Wingate by Wyndham Missoula                         0.385313"
      ]
     },
     "execution_count": 67,
     "metadata": {},
     "output_type": "execute_result"
    }
   ],
   "source": [
    "# Prediction for input text\n",
    "words = 'Hotel near to airport, with restaurants'\n",
    "test_df= pd.DataFrame([words], columns=['text'])\n",
    "test_df['text'] = test_df['text'].apply(clean_text)\n",
    "test_vectors = userid_vectorizer.transform(test_df['text'])\n",
    "test_v_df = pd.DataFrame(test_vectors.toarray(), index=test_df.index, columns=userid_vectorizer.get_feature_names())\n",
    "\n",
    "predictHotelRating=pd.DataFrame(np.dot(test_v_df.loc[0],H.T),index=H.index,columns=['Rating'])\n",
    "topRecommendations=pd.DataFrame.sort_values(predictHotelRating,['Rating'],ascending=[0])[:10]\n",
    "topRecommendations\n"
   ]
  },
  {
   "cell_type": "code",
   "execution_count": 63,
   "metadata": {},
   "outputs": [],
   "source": [
    "# Prediction and Accuracy test on Validation set\n",
    "f = open('Reviewtext_recommendation.pkl', 'rb')\n",
    "U, H, userid_vectorizer = pickle.load(f), pickle.load(f), pickle.load(f)"
   ]
  },
  {
   "cell_type": "code",
   "execution_count": 64,
   "metadata": {},
   "outputs": [],
   "source": [
    "# Prediction and Accuracy test on Validation set\n",
    "test_df = X_valid.to_frame()\n",
    "test_df['text'] = test_df['text'].apply(clean_text)\n",
    "test_vectors = userid_vectorizer.transform(test_df['text'])\n",
    "test_v_df = pd.DataFrame(test_vectors.toarray(), index=test_df.index,\n",
    "                         columns=userid_vectorizer.get_feature_names())\n"
   ]
  },
  {
   "cell_type": "code",
   "execution_count": 65,
   "metadata": {},
   "outputs": [],
   "source": [
    "# Prediction ratings for the top recommended hotel\n",
    "y_pred = []\n",
    "for key, row in test_v_df.iterrows():\n",
    "    predictHotelRating=pd.DataFrame(np.dot(row,H.T),index=H.index,columns=['Rating'])\n",
    "    topRecommendations=pd.DataFrame.sort_values(predictHotelRating,['Rating'],ascending=[0])[:1]\n",
    "    y_pred.append(topRecommendations.index[0])\n"
   ]
  },
  {
   "cell_type": "code",
   "execution_count": 68,
   "metadata": {},
   "outputs": [
    {
     "name": "stdout",
     "output_type": "stream",
     "text": [
      "Accuracy for validation set is:  0.9647131021785824\n"
     ]
    }
   ],
   "source": [
    "#Calculate Accuracy of the validation set\n",
    "from sklearn.metrics import accuracy_score\n",
    "print('Accuracy for validation set is: ',accuracy_score(y_valid, y_pred))"
   ]
  }
 ],
 "metadata": {
  "kernelspec": {
   "display_name": "Python 3",
   "language": "python",
   "name": "python3"
  },
  "language_info": {
   "codemirror_mode": {
    "name": "ipython",
    "version": 3
   },
   "file_extension": ".py",
   "mimetype": "text/x-python",
   "name": "python",
   "nbconvert_exporter": "python",
   "pygments_lexer": "ipython3",
   "version": "3.7.3"
  }
 },
 "nbformat": 4,
 "nbformat_minor": 2
}
